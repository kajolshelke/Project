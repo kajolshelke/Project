{
 "cells": [
  {
   "cell_type": "code",
   "execution_count": 25,
   "metadata": {},
   "outputs": [],
   "source": [
    "\n",
    "# TODO: Plots for file snr_ts_sub_test2.py"
   ]
  },
  {
   "cell_type": "code",
   "execution_count": 26,
   "metadata": {},
   "outputs": [],
   "source": [
    "import numpy as np\n",
    "import matplotlib.pyplot as plt\n",
    "import pandas as pd"
   ]
  },
  {
   "cell_type": "code",
   "execution_count": 27,
   "metadata": {},
   "outputs": [],
   "source": [
    "m1_bbh_inj_arr, m2_bbh_inj_arr, m1_bns_inj_arr, m2_bns_inj_arr = [], [], [], []\n",
    "m1_rec_arr, m2_rec_arr = [], []\n",
    "m1_bbh_bestrec_arr, m2_bbh_bestrec_arr, m1_bns_bestrec_arr, m2_bns_bestrec_arr = [], [], [], []\n",
    "snr1_inj_arr, snr2_inj_arr, snr1_rec_arr, snr2_rec_arr = [], [], [], []\n",
    "time_arr, buffer_arr, index_arr = [], [], []\n",
    "\n",
    "for idx in range(1500):\n",
    "    data = pd.read_csv('snr_ts_sub_alg2/sub_alg_%d.csv'%idx)\n",
    "\n",
    "    m1_bbh_inj, m2_bbh_inj, m1_bns_inj, m2_bns_inj = [], [], [], []\n",
    "    m1_rec, m2_rec = [], []\n",
    "    m1_bbh_bestrec, m2_bbh_bestrec, m1_bns_bestrec, m2_bns_bestrec = [], [], [], []\n",
    "    snr1_inj, snr2_inj, snr1_rec, snr2_rec = [], [], [], []\n",
    "    time, buffer, index = [], [], []\n",
    "\n",
    "    for i in range(10):\n",
    "        m1_bbh_inj.append(data['m1_inj1'][i])\n",
    "        m2_bbh_inj.append(data['m2_inj1'][i])\n",
    "        m1_bns_inj.append(data['m1_inj2'][i])\n",
    "        m2_bns_inj.append(data['m2_inj2'][i])\n",
    "\n",
    "        m1_rec.append(data['m1_rec'][i])\n",
    "        m2_rec.append(data['m2_rec'][i])\n",
    "\n",
    "        m1_bbh_bestrec.append(data['m1_best_rec1'][i])\n",
    "        m2_bbh_bestrec.append(data['m2_best_rec1'][i])\n",
    "        m1_bns_bestrec.append(data['m1_best_rec2'][i])\n",
    "        m2_bns_bestrec.append(data['m2_best_rec2'][i])\n",
    "\n",
    "        snr1_inj.append(data['snr1'])\n",
    "        snr2_inj.append(data['snr2'])\n",
    "\n",
    "        time.append(data['time'][i])\n",
    "        buffer.append(data['buffer'][i])\n",
    "        index.append(data['index'][i])\n",
    "        \n",
    "\n",
    "    m1_bbh_inj_arr.append(m1_bbh_inj)\n",
    "    m2_bbh_inj_arr.append(m2_bbh_inj)\n",
    "    m1_bns_inj_arr.append(m1_bns_inj)\n",
    "    m2_bns_inj_arr.append(m2_bns_inj)\n",
    "\n",
    "    m1_rec_arr.append(m1_rec)\n",
    "    m2_rec_arr.append(m2_rec)\n",
    "\n",
    "    m1_bbh_bestrec_arr.append(m1_bbh_bestrec)\n",
    "    m2_bbh_bestrec_arr.append(m2_bbh_bestrec)\n",
    "    m1_bns_bestrec_arr.append(m1_bns_bestrec)\n",
    "    m2_bns_bestrec_arr.append(m2_bns_bestrec)\n",
    "\n",
    "    snr1_inj_arr.append(snr1_inj)\n",
    "    snr2_inj_arr.append(snr2_inj)\n",
    "\n",
    "    time_arr.append(time)\n",
    "    buffer_arr.append(buffer)\n",
    "    index_arr.append(index)\n",
    "\n",
    "m1_bbh_inj_arr = np.array(m1_bbh_inj_arr)\n",
    "m2_bbh_inj_arr = np.array(m2_bbh_inj_arr)\n",
    "m1_bns_inj_arr = np.array(m1_bns_inj_arr)\n",
    "m2_bns_inj_arr = np.array(m2_bns_inj_arr)\n",
    "\n",
    "m1_rec_arr = np.array(m1_rec_arr)\n",
    "m2_rec_arr = np.array(m2_rec_arr)\n",
    "\n",
    "m1_bbh_bestrec_arr = np.array(m1_bbh_bestrec_arr)\n",
    "m2_bbh_bestrec_arr = np.array(m2_bbh_bestrec_arr)\n",
    "m1_bns_bestrec_arr = np.array(m1_bns_bestrec_arr)\n",
    "m2_bns_bestrec_arr = np.array(m2_bns_bestrec_arr)\n",
    "\n",
    "snr1_inj_arr = np.array(snr1_inj_arr)\n",
    "snr2_inj_arr = np.array(snr2_inj_arr)\n",
    "\n",
    "time_arr = np.array(time_arr)\n",
    "buffer_arr = np.array(buffer_arr)\n",
    "index_arr = np.array(index_arr)\n"
   ]
  },
  {
   "cell_type": "code",
   "execution_count": 28,
   "metadata": {},
   "outputs": [],
   "source": [
    "cmass_bbh_inj_arr, cmass_bns_inj_arr = [], []\n",
    "\n",
    "def get_chirp_mass(m1, m2):\n",
    "    '''Calculate chirp mass'''\n",
    "    chrp_mass = ((m1*m2)**(3/5))/((m1 + m2)**(1/5))\n",
    "    return chrp_mass\n",
    "\n",
    "for i in range(1500):\n",
    "    cmass_bbh_inj_arr.append(get_chirp_mass(m1_bbh_inj_arr[i][0], m2_bbh_inj_arr[i][0]))\n",
    "    cmass_bns_inj_arr.append(get_chirp_mass(m1_bns_inj_arr[i][0], m2_bns_inj_arr[i][0]))\n",
    "\n",
    "cmass_bbh_inj_arr = np.array(cmass_bbh_inj_arr)\n",
    "cmass_bns_inj_arr = np.array(cmass_bns_inj_arr)\n"
   ]
  },
  {
   "cell_type": "code",
   "execution_count": 29,
   "metadata": {},
   "outputs": [],
   "source": [
    "cmass_bbh_bestrec_arr, cmass_bns_bestrec_arr = [], []\n",
    "\n",
    "for i in range(1500):\n",
    "    cmass_bbh_bestrec_arr.append(get_chirp_mass(m1_bbh_bestrec_arr[i][0], m2_bbh_bestrec_arr[i][0]))\n",
    "    cmass_bns_bestrec_arr.append(get_chirp_mass(m1_bns_bestrec_arr[i][0], m2_bns_bestrec_arr[i][0]))\n",
    "\n",
    "cmass_bbh_bestrec_arr = np.array(cmass_bbh_bestrec_arr)\n",
    "cmass_bns_bestrec_arr = np.array(cmass_bns_bestrec_arr)\n"
   ]
  },
  {
   "cell_type": "code",
   "execution_count": 30,
   "metadata": {},
   "outputs": [],
   "source": [
    "cmass_bbh_rec_arr, cmass_bns_rec_arr = [], []\n",
    "\n",
    "for i in range(1500):\n",
    "    cmass_bbh_rec, cmass_bns_rec = [], []\n",
    "\n",
    "    for j in range(5):\n",
    "        cmass_bbh_rec.append(get_chirp_mass(m1_rec_arr[i][2*j], m2_rec_arr[i][2*j]))\n",
    "        cmass_bns_rec.append(get_chirp_mass(m1_rec_arr[i][2*j], m2_rec_arr[i][2*j]))\n",
    "\n",
    "    cmass_bbh_rec_arr.append(cmass_bbh_rec)\n",
    "    cmass_bns_rec_arr.append(cmass_bns_rec)\n",
    "\n",
    "\n",
    "cmass_bbh_rec_arr = np.array(cmass_bbh_rec_arr)\n",
    "cmass_bns_rec_arr = np.array(cmass_bns_rec_arr)"
   ]
  },
  {
   "cell_type": "raw",
   "metadata": {},
   "source": [
    "delta_cmass_bbh_arr, delta_cmass_bns_arr = [], []\n",
    "\n",
    "for i in range(1500):\n",
    "    delta_cmass_bbh, delta_cmass_bns = [], []\n",
    "\n",
    "    for j in range(5):\n",
    "        delta_cmass_bbh.append(cmass_bbh_inj_arr[i] - cmass_bbh_rec_arr[i][j])\n",
    "        delta_cmass_bns.append(cmass_bns_inj_arr[i] - cmass_bns_rec_arr[i][j])\n",
    "\n",
    "    delta_cmass_bbh_arr.append(delta_cmass_bbh)\n",
    "    delta_cmass_bns_arr.append(delta_cmass_bns)\n",
    "\n",
    "delta_cmass_bbh_arr = np.array(delta_cmass_bbh_arr)\n",
    "delta_cmass_bns_arr = np.array(delta_cmass_bns_arr)"
   ]
  },
  {
   "cell_type": "code",
   "execution_count": 31,
   "metadata": {},
   "outputs": [],
   "source": [
    "delta_cmass_bbh_arr, delta_cmass_bns_arr = [], []\n",
    "\n",
    "for i in range(1500):\n",
    "    delta_cmass_bbh, delta_cmass_bns = [], []\n",
    "\n",
    "    for j in range(5):\n",
    "        delta_cmass_bbh.append(cmass_bbh_inj_arr[i] - cmass_bbh_bestrec_arr[i])\n",
    "        delta_cmass_bns.append(cmass_bns_inj_arr[i] - cmass_bns_bestrec_arr[i])\n",
    "\n",
    "    delta_cmass_bbh_arr.append(delta_cmass_bbh)\n",
    "    delta_cmass_bns_arr.append(delta_cmass_bns)\n",
    "\n",
    "delta_cmass_bbh_arr = np.array(delta_cmass_bbh_arr)\n",
    "delta_cmass_bns_arr = np.array(delta_cmass_bns_arr)"
   ]
  },
  {
   "cell_type": "code",
   "execution_count": 32,
   "metadata": {},
   "outputs": [
    {
     "name": "stdout",
     "output_type": "stream",
     "text": [
      "-1.0088649774567813\n"
     ]
    }
   ],
   "source": [
    "print(cmass_bbh_inj_arr[100] - cmass_bbh_bestrec_arr[100])"
   ]
  },
  {
   "cell_type": "code",
   "execution_count": 40,
   "metadata": {},
   "outputs": [
    {
     "data": {
      "image/png": "[encoded data removed]",
      "text/plain": [
       "<Figure size 640x480 with 1 Axes>"
      ]
     },
     "metadata": {},
     "output_type": "display_data"
    }
   ],
   "source": [
    "\n",
    "\n",
    "    # if buffer_arr[i][0] > 0.1:\n",
    "\n",
    "    #     plt.plot(range(5), delta_cmass_bbh_arr[14])\n",
    "\n",
    "plt.plot(range(5), delta_cmass_bbh_arr[14])\n",
    "\n",
    "plt.xlabel('No. of iterations')\n",
    "plt.ylabel('delta Chirp-mass')\n",
    "plt.show()"
   ]
  },
  {
   "cell_type": "code",
   "execution_count": 35,
   "metadata": {},
   "outputs": [
    {
     "data": {
      "text/plain": [
       "0.427"
      ]
     },
     "execution_count": 35,
     "metadata": {},
     "output_type": "execute_result"
    }
   ],
   "source": [
    "buffer_arr[8][0]"
   ]
  },
  {
   "cell_type": "code",
   "execution_count": 39,
   "metadata": {},
   "outputs": [
    {
     "name": "stdout",
     "output_type": "stream",
     "text": [
      "26.475614465273747\n",
      "39.398235811419255\n"
     ]
    }
   ],
   "source": [
    "print(m1_bbh_inj_arr[8][0])\n",
    "print(m2_bbh_inj_arr[8][0])\n",
    "\n"
   ]
  }
 ],
 "metadata": {
  "kernelspec": {
   "display_name": "Python 3",
   "language": "python",
   "name": "python3"
  },
  "language_info": {
   "codemirror_mode": {
    "name": "ipython",
    "version": 3
   },
   "file_extension": ".py",
   "mimetype": "text/x-python",
   "name": "python",
   "nbconvert_exporter": "python",
   "pygments_lexer": "ipython3",
   "version": "3.11.3"
  },
  "orig_nbformat": 4
 },
 "nbformat": 4,
 "nbformat_minor": 2
}
