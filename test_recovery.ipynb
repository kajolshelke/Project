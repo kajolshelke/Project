{
 "cells": [
  {
   "cell_type": "markdown",
   "id": "8332f166",
   "metadata": {},
   "source": [
    "# Importing libraries"
   ]
  },
  {
   "cell_type": "code",
   "execution_count": 1,
   "id": "557398d1",
   "metadata": {},
   "outputs": [],
   "source": [
    "import matplotlib.pyplot as pp\n",
    "import pycbc.noise\n",
    "import pycbc.psd\n",
    "import pycbc.filter\n",
    "from pycbc.waveform import get_td_waveform\n",
    "from pycbc.waveform import get_fd_waveform\n",
    "import numpy as np\n",
    "from pycbc.vetoes import power_chisq\n",
    "from pycbc.events.ranking import newsnr\n",
    "import pandas as pd\n",
    "from pycbc.filter import sigma\n",
    "\n",
    "%matplotlib inline"
   ]
  },
  {
   "cell_type": "markdown",
   "id": "90d14738",
   "metadata": {},
   "source": [
    "# Generating noise"
   ]
  },
  {
   "cell_type": "code",
   "execution_count": 2,
   "id": "6ee383e6",
   "metadata": {},
   "outputs": [],
   "source": [
    "def gen_noise(psd_need):\n",
    "    \n",
    "    # The color of the noise matches a PSD which you provide\n",
    "    flow = 30.0\n",
    "    delta_f = 1.0 / 16\n",
    "    flen = int(2048 / delta_f) + 1\n",
    "    psd = pycbc.psd.aLIGOZeroDetHighPower(flen, delta_f, flow)\n",
    "\n",
    "    if (psd_need == True) :\n",
    "        pp.plot(psd.sample_frequencies,psd.data)\n",
    "        pp.loglog()\n",
    "        pp.xlim(30,2000)\n",
    "        pp.ylabel('$Strain^2 / Hz$')\n",
    "        pp.xlabel('Frequency (Hz)')\n",
    "        pp.show()\n",
    "\n",
    "\n",
    "    # Generate 512 seconds of noise at 4096 Hz\n",
    "    delta_t = 1.0 / 4096\n",
    "    tsamples = int(32/ delta_t)\n",
    "    ts = pycbc.noise.gaussian.noise_from_psd(tsamples,delta_t, psd, seed=127)\n",
    "    \n",
    "    \n",
    "    #plotting noise \n",
    "#     pp.plot(ts.sample_times, ts)\n",
    "#     pp.ylabel('Strain')\n",
    "#     pp.xlabel('Time (simport numpy as np\n",
    "\n",
    "#     pp.show()\n",
    "    \n",
    "\n",
    "    return ts\n",
    "\n"
   ]
  },
  {
   "cell_type": "markdown",
   "id": "72ab80d6",
   "metadata": {},
   "source": [
    "# Generating strain"
   ]
  },
  {
   "cell_type": "code",
   "execution_count": 3,
   "id": "15f5338b",
   "metadata": {},
   "outputs": [],
   "source": [
    "def gen_waveform(model,m1,m2,s1z,s2z,distance,time,l):\n",
    "    \n",
    "    from pycbc.detector import Detector\n",
    "    from pycbc.waveform import get_td_waveform\n",
    "\n",
    "\n",
    "   \n",
    "    ra = 1.7\n",
    "    dec = 1.7\n",
    "    pol = 0.2\n",
    "    inclination_1 = 0\n",
    "\n",
    "\n",
    "\n",
    "\n",
    "    # We can calcualate the antenna pattern for Hanford at\n",
    "    # the specific sky location\n",
    "    d = Detector(\"H1\")\n",
    "\n",
    "    # We get back the fp and fc antenna pattern weights.\n",
    "    fp, fc = d.antenna_pattern(ra, dec, pol, time)\n",
    "    #print(\"fp={}, fc={}\".format(fp, fc))\n",
    "\n",
    "    # These factors allow us to project a signal into what the detector would observe\n",
    "    # IMRPhenomPv2\n",
    "    # Generate the waveform for the BNS merger\n",
    "    hp_1, hc_1 = get_td_waveform(approximant=model,\n",
    "                             mass1=m1, mass2=m2,spin1z=s1z,spin2z=s2z,\n",
    "                             distance=distance, inclination=inclination_1,\n",
    "                             delta_t=1.0/4096, f_lower=30)\n",
    "\n",
    "    ## Apply the factors to get the detector frame strain\n",
    "    ht_1 = fp * hp_1 + fc * hc_1\n",
    "    \n",
    "    \n",
    "#     pp.plot(ht_1.sample_times, ht_1, label=l)\n",
    "#     pp.legend()\n",
    "#     pp.ylabel('Strain')\n",
    "#     pp.xlabel('Time')\n",
    "#     pp.grid()\n",
    "#     pp.show()\n",
    "    \n",
    "    \n",
    "    \n",
    "    return ht_1\n"
   ]
  },
  {
   "cell_type": "markdown",
   "id": "683536aa",
   "metadata": {},
   "source": [
    "# Creating overlapping signal"
   ]
  },
  {
   "cell_type": "code",
   "execution_count": null,
   "id": "1e7956d8",
   "metadata": {},
   "outputs": [],
   "source": [
    "def overlap(ht_1,ht_2,buffer):\n",
    "\n",
    "    if len(ht_1) < len(ht_2):\n",
    "        ht_small, ht_big = ht_1, ht_2\n",
    "    else:\n",
    "        ht_small, ht_big = ht_2, ht_1\n",
    "\n",
    "    dt = ht_small.delta_t\n",
    "\n",
    "    # make buffer int multiple of dt\n",
    "    buffer = np.round(buffer*ht_big.sample_rate)/ht_big.sample_rate\n",
    "    # elongate the long template to accomodate enough space on left\n",
    "    ht_big.resize(len(ht_big)+int(buffer*ht_big.sample_rate))\n",
    "    # match small template\n",
    "    ht_small.resize(len(ht_big))\n",
    "    # correct the position after resizing\n",
    "    ht_big = ht_big.cyclic_time_shift(buffer)\n",
    "    #Shifting the merger time\n",
    "    ht_small = ht_small.cyclic_time_shift(ht_small.start_time-ht_big.start_time-buffer)\n",
    "    #Equating the start time of both signals\n",
    "    ht_small.start_time = ht_big.start_time\n",
    "    # resample to original sample rate\n",
    "    ht_big = ht_big.resample(dt)\n",
    "    ht_small = ht_small.resample(dt)\n",
    "\n",
    "    #Combining the signals\n",
    "    ht_total = ht_small + ht_big\n",
    "\n",
    "    return ht_total,ht_2"
   ]
  },
  {
   "cell_type": "raw",
   "id": "de1d9172-b7f2-47ff-8f04-78b8f6b2b806",
   "metadata": {},
   "source": [
    "def overlap(ht_1,ht_2,buffer):\n",
    "    \n",
    "    #Equal lengths of signals\n",
    "    ht_2.resize(len(ht_1))\n",
    "    \n",
    "    #Shifting the merger time\n",
    "    ht_2=ht_2.cyclic_time_shift(ht_2.end_time - buffer)\n",
    "    \n",
    "    #Equating the start time of both signals\n",
    "    ht_2.start_time = ht_1.start_time\n",
    "    \n",
    "    #Combining the signals\n",
    "    ht_total = ht_1 + ht_2\n",
    "    \n",
    "    return ht_total,ht_2"
   ]
  },
  {
   "cell_type": "raw",
   "id": "38566a8c-4ae0-44aa-b2dd-5f6e0f4cd8f2",
   "metadata": {
    "tags": []
   },
   "source": [
    "h1_bns = gen_waveform('IMRPhenomPv2',20,30,0.8,0.8,3000,0.0,\"BNS\")\n",
    "h1_bbh = gen_waveform('IMRPhenomPv2',30,40,0.8,0.8,3000,0.0,\"BBH\")\n",
    "ht_total,h1_bbh = overlap(h1_bns,h1_bbh,5.)\n",
    "plt.figure(figsize=(15,4))\n",
    "ht_total.plot()\n",
    "(0.5*h1_bbh).plot()\n",
    "(0.5*h1_bns).plot()\n",
    "plt.show()"
   ]
  },
  {
   "cell_type": "markdown",
   "id": "ff4cefe2",
   "metadata": {},
   "source": [
    "# Injecting strain into noise"
   ]
  },
  {
   "cell_type": "code",
   "execution_count": 5,
   "id": "8b1af937",
   "metadata": {},
   "outputs": [],
   "source": [
    "def inject(ht_total,ts):\n",
    "    \n",
    "    #Resizing the signal\n",
    "    ht_total.resize(len(ts)) \n",
    "    \n",
    "    #Equating the start time\n",
    "    ht_total.start_time = ts.start_time\n",
    "    \n",
    "    #Injecting signal into noise\n",
    "    ts = ts.add_into(ht_total) \n",
    "    \n",
    "    #plotting the result\n",
    "#     pp.plot(ts.sample_times, ts)\n",
    "#     pp.xlabel('Time(s)')\n",
    "#     pp.ylabel('Strain')\n",
    "#     pp.grid()\n",
    "#     pp.show()\n",
    "    \n",
    "    return ts \n",
    "\n",
    "\n"
   ]
  },
  {
   "cell_type": "markdown",
   "id": "b358ed48",
   "metadata": {},
   "source": [
    "# Calculating PSD"
   ]
  },
  {
   "cell_type": "code",
   "execution_count": 6,
   "id": "e7567fad",
   "metadata": {},
   "outputs": [],
   "source": [
    "def psd_data(conditioned):\n",
    "\n",
    "    from pycbc.psd import interpolate, inverse_spectrum_truncation\n",
    "    # Estimate the power spectral density\n",
    "\n",
    "    # We use 4 second samples of our time series in Welch method.\n",
    "    psd = conditioned.psd(4)\n",
    "\n",
    "    # Now that we have the psd we need to interpolate it to match our data\n",
    "    # and then limit the filter length of 1 / PSD. After this, we can\n",
    "    # directly use this PSD to filter the data in a controlled manner\n",
    "\n",
    "    psd = interpolate(psd, conditioned.delta_f)\n",
    "\n",
    "    # 1/PSD will now act as a filter with an effective length of 4 seconds\n",
    "    # Since the data has been highpassed above 30 Hz, and will have low values\n",
    "    # below this we need to informat the function to not include frequencies\n",
    "    # below this frequency. \n",
    "    psd = inverse_spectrum_truncation(psd, int(4 * conditioned.sample_rate),\n",
    "                                      low_frequency_cutoff=30)\n",
    "\n",
    "#     pp.loglog(psd.sample_frequencies, psd)\n",
    "#     pp.ylabel('$Strain^2 / Hz$')\n",
    "#     pp.xlabel('Frequency (Hz)')\n",
    "#     pp.xlim(30, 1024)\n",
    "    \n",
    "    return psd"
   ]
  },
  {
   "cell_type": "markdown",
   "id": "f619e26f",
   "metadata": {},
   "source": [
    "# Creating template bank"
   ]
  },
  {
   "cell_type": "code",
   "execution_count": 7,
   "id": "a7804d81",
   "metadata": {},
   "outputs": [],
   "source": [
    "\n",
    "def template_bank(m_1,m_2,m_radius,temp_numb):\n",
    "\n",
    "    # Generate templates for BNS\n",
    "    temp_bank = np.zeros((temp_numb, 2))\n",
    "    for i in range(temp_numb):\n",
    "        r1 = np.random.uniform(0,m_radius)\n",
    "        r2 = np.random.uniform(0,(np.pi*2))           \n",
    "        m1 = r1*(np.cos(r2)) + m_1\n",
    "        m2 = r1*(np.sin(r2)) + m_2\n",
    "\n",
    "        temp_bank[i, :] = [m1, m2]\n",
    "\n",
    "    temp_bank[i,:] = [m_1,m_2]\n",
    "    \n",
    "    return temp_bank\n",
    "\n"
   ]
  },
  {
   "cell_type": "markdown",
   "id": "d76cb290",
   "metadata": {},
   "source": [
    "# Generating template"
   ]
  },
  {
   "cell_type": "code",
   "execution_count": 8,
   "id": "4fc05f9f",
   "metadata": {},
   "outputs": [],
   "source": [
    "def gen_template(model,m1,m2,s1z,s2z,conditioned):\n",
    "    \n",
    "    from pycbc.detector import Detector\n",
    "    from pycbc.waveform import get_td_waveform\n",
    "\n",
    "    \n",
    "    ra = 1.7\n",
    "    dec = 1.7\n",
    "    pol = 0.2\n",
    "    inclination_1 = 0\n",
    "    time=0.0\n",
    "\n",
    "\n",
    "\n",
    "    # We can calcualate the antenna pattern for Hanford at\n",
    "    # the specific sky location\n",
    "    d = Detector(\"H1\")\n",
    "\n",
    "    # We get back the fp and fc antenna pattern weights.\n",
    "    fp, fc = d.antenna_pattern(ra, dec, pol, time)\n",
    "    \n",
    "    \n",
    "    \n",
    "    \n",
    "    hp, hc = get_td_waveform(approximant=model,\n",
    "                     mass1=m1,\n",
    "                     mass2=m2,spin1z=s1z,spin2z=s2z,\n",
    "                     delta_t=conditioned.delta_t,\n",
    "                     f_lower=30)\n",
    "    \n",
    "    \n",
    "    ht_template = fp * hp + fc * hc\n",
    "    \n",
    "    #Resizing the template to match data\n",
    "    ht_template.resize(len(conditioned))\n",
    "    \n",
    "    #Time shift \n",
    "    template = ht_template.cyclic_time_shift(ht_template.start_time)\n",
    "    \n",
    "   \n",
    "    return template\n"
   ]
  },
  {
   "cell_type": "markdown",
   "id": "a4ad8f89",
   "metadata": {},
   "source": [
    "# Generating SNR"
   ]
  },
  {
   "cell_type": "code",
   "execution_count": 9,
   "id": "7159e7b4",
   "metadata": {},
   "outputs": [],
   "source": [
    "def gen_SNR(template,conditioned,psd):\n",
    "    from pycbc.filter import matched_filter\n",
    "    import numpy\n",
    "\n",
    "    snr = matched_filter(template, conditioned,\n",
    "                         psd=psd, low_frequency_cutoff=30)\n",
    "\n",
    "\n",
    "\n",
    "    # The `matched_filter` function actually returns a 'complex' SNR.\n",
    "    # What that means is that the real portion correponds to the SNR\n",
    "    # associated with directly filtering the template with the data.\n",
    "    # The imaginary portion corresponds to filtering with a template that\n",
    "    # is 90 degrees out of phase. Since the phase of a signal may be \n",
    "    # anything, we choose to maximize over the phase of the signal.\n",
    "\n",
    "   \n",
    "    peak = abs(snr).numpy().argmax()\n",
    "    snrpc= snr[peak]\n",
    "    snrp = abs(snr[peak])\n",
    "    time = snr.sample_times[peak]\n",
    "   \n",
    "    \n",
    "    return snr,time,peak,snrpc,snrp"
   ]
  },
  {
   "cell_type": "markdown",
   "id": "fadd6099",
   "metadata": {},
   "source": [
    "# Chi-square Test"
   ]
  },
  {
   "cell_type": "code",
   "execution_count": 10,
   "id": "6c9e21ba",
   "metadata": {},
   "outputs": [],
   "source": [
    "def gen_chisquare(temp,data,m_1,m_2,s_1,s_2,psd):\n",
    "    \n",
    "    n =int(0.72*pycbc.pnutils.get_freq('fSEOBNRv4Peak',m_1,m_2,s_1,s_2)**0.7)\n",
    "    \n",
    "    chisq = power_chisq(temp, data, n, psd=psd, low_frequency_cutoff=30.0)\n",
    "\n",
    "    # convert to a reduced chisq\n",
    "    chisq /= (n * 2) - 2\n",
    "    \n",
    "    \n",
    "    \n",
    "    return chisq\n"
   ]
  },
  {
   "cell_type": "markdown",
   "id": "8ffbea79",
   "metadata": {},
   "source": [
    "# Calculating SNR,Chi-square,New SNR for entire template bank"
   ]
  },
  {
   "cell_type": "code",
   "execution_count": 11,
   "id": "60fe6dd5",
   "metadata": {},
   "outputs": [],
   "source": [
    "def snr_chisq_nsnr(num_templates,temp_bank,psd,data,model,s):\n",
    "\n",
    "    template_info = []\n",
    "\n",
    "\n",
    "    for i in range(num_templates):\n",
    "        T1 = gen_template(model,temp_bank[i][0],temp_bank[i][1],s,s,data)\n",
    "\n",
    "        S1,time_bns,index_peak_bns,C_snrp,old_snr_bns = gen_SNR(T1,data,psd)\n",
    "\n",
    "        chisq_1 = gen_chisquare(T1,data,temp_bank[i,:][0],temp_bank[i,:][1],s,s,psd)\n",
    "        chisq_val_bns = chisq_1[index_peak_bns]\n",
    "\n",
    "        new_snr_bns = newsnr(abs(S1),chisq_1)\n",
    "\n",
    "        snrp_bns = new_snr_bns[index_peak_bns]\n",
    "\n",
    "        template_info.append([temp_bank[i,:][0],temp_bank[i,:][1],time_bns,old_snr_bns,snrp_bns,chisq_val_bns,C_snrp])\n",
    "\n",
    "    return template_info\n",
    "    "
   ]
  },
  {
   "cell_type": "markdown",
   "id": "b7082cf3",
   "metadata": {},
   "source": [
    "# Recovery of signal"
   ]
  },
  {
   "cell_type": "code",
   "execution_count": 178,
   "id": "aed4c33a",
   "metadata": {},
   "outputs": [],
   "source": [
    "def recovery(data, n, bns_bank, bbh_bank, psd, toggle): \n",
    "\n",
    "    bns_info =  snr_chisq_nsnr(n,bns_bank,psd,data,'IMRPhenomPv2',0.8)\n",
    "    bbh_info =  snr_chisq_nsnr(n,bbh_bank,psd,data,'IMRPhenomPv2',0.8)\n",
    "    total_info = [*bbh_info,*bns_info]\n",
    "\n",
    "    if toggle == 1:\n",
    "        toggle_str = \"                                                                  \"\n",
    "    else:\n",
    "        toggle_str = \"\"\n",
    "\n",
    "    info = {}\n",
    "    for i in total_info:\n",
    "        info.update({i[4] : [i[0],i[1],i[2],i[3],i[5],i[6]]})\n",
    "\n",
    "    snrp_1 = max(info.keys())\n",
    "    time_1 = info.get(max(info.keys()))[2]\n",
    "    m1_1 = info.get(max(info.keys()))[0]\n",
    "    m2_1 = info.get(max(info.keys()))[1]\n",
    "    chi_sq_1 = info.get(max(info.keys()))[4]\n",
    "    Comp_snrp = info.get(max(info.keys()))[5]\n",
    "\n",
    "    print(f\"{toggle_str}({m1_1:2.1f}, {m2_1:2.1f}); at {time_1:2.4f} secs; newSNR: {snrp_1:2.4f} chisq: {chi_sq_1:2.4f}\")\n",
    "\n",
    "    return m1_1, m2_1, time_1, snrp_1, total_info, Comp_snrp, -toggle"
   ]
  },
  {
   "cell_type": "markdown",
   "id": "4fc3482d",
   "metadata": {},
   "source": [
    "# Aligning and subtracting the recovered signal to find the other signal"
   ]
  },
  {
   "cell_type": "code",
   "execution_count": 13,
   "id": "6e1e1767",
   "metadata": {},
   "outputs": [],
   "source": [
    "def align_sub(m1_1,m2_1,time_1,com_snrp,data,psd):   \n",
    "    \n",
    "    # The time, amplitude, and phase of the SNR peak tell us how to align\n",
    "    # our proposed signal with the data.\n",
    "\n",
    "    # Shift the template to the peak time\n",
    "    dt = time_1 - data.start_time \n",
    "\n",
    "    # if (m1_1 >= 15 and m2_1 >= 15) : \n",
    "    temp_sub  = gen_template('IMRPhenomPv2',m1_1,m2_1,0.8,0.8,data)\n",
    "    # else :\n",
    "    #     temp_sub = gen_template('TaylorF2',m1_1,m2_1,0.05,0.05,data)\n",
    "\n",
    "    aligned = temp_sub.cyclic_time_shift(dt)\n",
    "\n",
    "    # scale the template so that it would have SNR 1 in this data\n",
    "    aligned /= sigma(aligned, psd=psd, low_frequency_cutoff=30.0)\n",
    "\n",
    "    # Scale the template amplitude and phase to the peak value\n",
    "    aligned = (aligned.to_frequencyseries() * com_snrp).to_timeseries()\n",
    "    aligned.start_time = data.start_time\n",
    "\n",
    "    \n",
    "    subtracted = data - aligned\n",
    "    \n",
    "    psd2 = psd_data(subtracted)  \n",
    "\n",
    "    \n",
    "    return subtracted,psd2"
   ]
  },
  {
   "cell_type": "code",
   "execution_count": 184,
   "id": "4e715492-f693-400c-9249-1a02bf42e6c9",
   "metadata": {},
   "outputs": [
    {
     "data": {
      "image/png": "[encoded data removed]",
      "text/plain": [
       "<Figure size 1500x400 with 1 Axes>"
      ]
     },
     "metadata": {},
     "output_type": "display_data"
    }
   ],
   "source": [
    "h1_bns = gen_waveform('IMRPhenomPv2',20,30,0.8,0.8,3000,0.0,\"BNS\")\n",
    "h1_bbh = gen_waveform('IMRPhenomPv2',30,40,0.8,0.8,3000,0.0,\"BBH\")\n",
    "ht_total,h1_bbh = overlap(h1_bns,h1_bbh,5.)\n",
    "pp.figure(figsize=(15,4))\n",
    "ht_total.plot()\n",
    "pp.show()"
   ]
  },
  {
   "cell_type": "markdown",
   "id": "73024d59",
   "metadata": {},
   "source": [
    "# Creating Data"
   ]
  },
  {
   "cell_type": "markdown",
   "id": "14a25fe4",
   "metadata": {
    "tags": []
   },
   "source": [
    "### Noise generation followed by creating 2 signals i.e. BNS and BBH; overlapping them in such a way that their merger peaks differ by 5 seconds,followed by injection of this overlapped signal into noise.Creating a template bank and calculating psd for this data(strain+noise)\n"
   ]
  },
  {
   "cell_type": "code",
   "execution_count": 166,
   "id": "35ca5e32-7a4f-40e7-a9ac-fe4fb2c97113",
   "metadata": {},
   "outputs": [
    {
     "data": {
      "image/png": "[encoded data removed]",
      "text/plain": [
       "<Figure size 640x480 with 1 Axes>"
      ]
     },
     "metadata": {},
     "output_type": "display_data"
    }
   ],
   "source": [
    "noise = gen_noise(False)\n",
    "\n",
    "h1_bns = gen_waveform('IMRPhenomPv2',20,30,0.8,0.8,5000,0.0,\"BNS\")\n",
    "h1_bbh = gen_waveform('IMRPhenomPv2',30,40,0.8,0.8,5000,0.0,\"BBH\")\n",
    "ht_total,h1_bbh = overlap(h1_bns,h1_bbh,0.1)\n",
    "ts1 = inject(ht_total,noise)\n",
    "\n",
    "bns_templates = template_bank(20,30,10,3)\n",
    "bbh_templates = template_bank(30,40,10,3)\n",
    "\n",
    "psd1 = psd_data(ts1)\n",
    "\n",
    "pp.plot(ts1.sample_times,ts1)\n",
    "pp.xlim(0.5,2.5)\n",
    "pp.show()"
   ]
  },
  {
   "cell_type": "markdown",
   "id": "33c4fa6f",
   "metadata": {},
   "source": [
    "# Initiating the recovery process"
   ]
  },
  {
   "cell_type": "code",
   "execution_count": 179,
   "id": "5156e3c5-62c1-4f62-923c-3479253546d9",
   "metadata": {},
   "outputs": [
    {
     "name": "stdout",
     "output_type": "stream",
     "text": [
      "(35.4, 34.6); at 1.8000 secs; newSNR: 7.1436 chisq: 1.5768\n",
      "                                                                  (20.0, 30.0); at 1.8999 secs; newSNR: 6.2103 chisq: 1.0520\n",
      "(30.8, 45.2); at 1.7991 secs; newSNR: 7.5579 chisq: 1.0148\n",
      "                                                                  (20.0, 30.0); at 1.8999 secs; newSNR: 6.9251 chisq: 1.0086\n",
      "(30.8, 45.2); at 1.7991 secs; newSNR: 7.5722 chisq: 0.9848\n",
      "                                                                  (20.0, 30.0); at 1.8999 secs; newSNR: 6.9448 chisq: 1.0055\n",
      "(30.8, 45.2); at 1.7991 secs; newSNR: 7.5721 chisq: 0.9845\n",
      "                                                                  (20.0, 30.0); at 1.8999 secs; newSNR: 6.9452 chisq: 1.0055\n",
      "(30.8, 45.2); at 1.7991 secs; newSNR: 7.5721 chisq: 0.9845\n",
      "                                                                  (20.0, 30.0); at 1.8999 secs; newSNR: 6.9452 chisq: 1.0055\n",
      "(30.8, 45.2); at 1.7991 secs; newSNR: 7.5721 chisq: 0.9845\n"
     ]
    }
   ],
   "source": [
    "tog = -1\n",
    "mass_1,mass_2,time,snrp,total,j_snrp,tog = recovery(ts1,3,bns_templates,bbh_templates,psd1,tog)\n",
    "\n",
    "for i in range(6):\n",
    "    sub,psd_sub = align_sub(mass_1,mass_2,time,j_snrp,ts1,psd1)\n",
    "    M1,M2,T,SP,Tot,k_snrp,tog = recovery(sub,3,bns_templates,bbh_templates,psd_sub,tog)\n",
    "    # pp.plot(sub.sample_times,sub)\n",
    "    # pp.xlim(0.5,1.5)\n",
    "    # pp.show()\n",
    "    mass_1=M1\n",
    "    mass_2=M2\n",
    "    time=T\n",
    "    snrp=SP\n",
    "    j_snrp = k_snrp\n",
    "    total.extend([[0,0,0,0,0,0]])\n",
    "    total.extend(Tot)"
   ]
  },
  {
   "cell_type": "code",
   "execution_count": null,
   "id": "ce42411d-a5a5-4110-bb27-79a0d35a2d2b",
   "metadata": {},
   "outputs": [],
   "source": []
  },
  {
   "cell_type": "code",
   "execution_count": null,
   "id": "edbc2760",
   "metadata": {},
   "outputs": [],
   "source": [
    "for i in total:\n",
    "    print(i)"
   ]
  },
  {
   "cell_type": "markdown",
   "id": "d092bc9b",
   "metadata": {},
   "source": [
    "### Storing the values of every iteration to an excel file"
   ]
  },
  {
   "cell_type": "code",
   "execution_count": null,
   "id": "6144eb40",
   "metadata": {},
   "outputs": [],
   "source": [
    "df_total_info = pd.DataFrame(total,columns = ['M1','M2','Time','Old_SNR','New_SNR','Chi-Sq.','Complex snrp'])\n",
    "\n",
    "df_total_info.to_excel('Iterative_Signal_Recovery.xlsx',index = False)"
   ]
  },
  {
   "cell_type": "code",
   "execution_count": null,
   "id": "766ee03b",
   "metadata": {},
   "outputs": [],
   "source": []
  },
  {
   "cell_type": "code",
   "execution_count": null,
   "id": "2bd4de4c",
   "metadata": {},
   "outputs": [],
   "source": []
  },
  {
   "cell_type": "code",
   "execution_count": null,
   "id": "5084d830",
   "metadata": {},
   "outputs": [],
   "source": []
  },
  {
   "cell_type": "code",
   "execution_count": null,
   "id": "e97f237a",
   "metadata": {},
   "outputs": [],
   "source": []
  },
  {
   "cell_type": "code",
   "execution_count": null,
   "id": "2181374a",
   "metadata": {},
   "outputs": [],
   "source": []
  }
 ],
 "metadata": {
  "kernelspec": {
   "display_name": "Python 3 (ipykernel)",
   "language": "python",
   "name": "python3"
  },
  "language_info": {
   "codemirror_mode": {
    "name": "ipython",
    "version": 3
   },
   "file_extension": ".py",
   "mimetype": "text/x-python",
   "name": "python",
   "nbconvert_exporter": "python",
   "pygments_lexer": "ipython3",
   "version": "3.7.13"
  }
 },
 "nbformat": 4,
 "nbformat_minor": 5
}
