{
 "cells": [
  {
   "cell_type": "markdown",
   "id": "186ed403",
   "metadata": {},
   "source": [
    "### Importing libraries"
   ]
  },
  {
   "cell_type": "code",
   "execution_count": 1,
   "id": "557398d1",
   "metadata": {},
   "outputs": [
    {
     "name": "stderr",
     "output_type": "stream",
     "text": [
      "PyCBC.libutils: pkg-config call failed, setting NO_PKGCONFIG=1\n"
     ]
    }
   ],
   "source": [
    "import matplotlib.pyplot as pp\n",
    "import pycbc.noise\n",
    "import pycbc.psd\n",
    "import pycbc.filter\n",
    "from pycbc.waveform import get_td_waveform\n",
    "from pycbc.waveform import get_fd_waveform\n",
    "import numpy as np\n",
    "from pycbc.vetoes import power_chisq\n",
    "from pycbc.events.ranking import newsnr\n",
    "import pandas as pd\n",
    "from pycbc.filter import sigma\n"
   ]
  },
  {
   "cell_type": "markdown",
   "id": "5b7b7bc3",
   "metadata": {},
   "source": [
    "# Generating noise"
   ]
  },
  {
   "cell_type": "code",
   "execution_count": 2,
   "id": "6ee383e6",
   "metadata": {},
   "outputs": [],
   "source": [
    "def gen_noise(psd_need):\n",
    "    \n",
    "    # The color of the noise matches a PSD which you provide\n",
    "    flow = 30.0\n",
    "    delta_f = 1.0 / 16\n",
    "    flen = int(2048 / delta_f) + 1\n",
    "    psd = pycbc.psd.aLIGOZeroDetHighPower(flen, delta_f, flow)\n",
    "\n",
    "    if (psd_need == True) :\n",
    "        pp.plot(psd.sample_frequencies,psd.data)\n",
    "        pp.loglog()\n",
    "        pp.xlim(30,2000)\n",
    "        pp.ylabel('$Strain^2 / Hz$')\n",
    "        pp.xlabel('Frequency (Hz)')\n",
    "        pp.show()\n",
    "\n",
    "\n",
    "    # Generate 512 seconds of noise at 4096 Hz\n",
    "    delta_t = 1.0 / 4096\n",
    "    tsamples = int(512/ delta_t)\n",
    "    ts = pycbc.noise.gaussian.noise_from_psd(tsamples,delta_t, psd, seed=127)\n",
    "    \n",
    "    \n",
    "    #plotting noise \n",
    "#     pp.plot(ts.sample_times, ts)\n",
    "#     pp.ylabel('Strain')\n",
    "#     pp.xlabel('Time (simport numpy as np\n",
    "\n",
    "#     pp.show()\n",
    "    \n",
    "\n",
    "    return ts\n",
    "\n"
   ]
  },
  {
   "cell_type": "markdown",
   "id": "fa9198cf",
   "metadata": {},
   "source": [
    "# Generating strain"
   ]
  },
  {
   "cell_type": "code",
   "execution_count": 3,
   "id": "15f5338b",
   "metadata": {},
   "outputs": [],
   "source": [
    "def gen_waveform(model,m1,m2,s1z,s2z,distance,time,l):\n",
    "    \n",
    "    from pycbc.detector import Detector\n",
    "    from pycbc.waveform import get_td_waveform\n",
    "\n",
    "\n",
    "   \n",
    "    ra = 1.7\n",
    "    dec = 1.7\n",
    "    pol = 0.2\n",
    "    inclination_1 = 0\n",
    "\n",
    "\n",
    "\n",
    "\n",
    "    # We can calcualate the antenna pattern for Hanford at\n",
    "    # the specific sky location\n",
    "    d = Detector(\"H1\")\n",
    "\n",
    "    # We get back the fp and fc antenna pattern weights.\n",
    "    fp, fc = d.antenna_pattern(ra, dec, pol, time)\n",
    "    #print(\"fp={}, fc={}\".format(fp, fc))\n",
    "\n",
    "    # These factors allow us to project a signal into what the detector would observe\n",
    "    # IMRPhenomPv2\n",
    "    # Generate the waveform for the BNS merger\n",
    "    hp_1, hc_1 = get_td_waveform(approximant=model,\n",
    "                             mass1=m1, mass2=m2,spin1z=s1z,spin2z=s2z,\n",
    "                             distance=distance, inclination=inclination_1,\n",
    "                             delta_t=1.0/4096, f_lower=30)\n",
    "\n",
    "    ## Apply the factors to get the detector frame strain\n",
    "    ht_1 = fp * hp_1 + fc * hc_1\n",
    "    \n",
    "    \n",
    "#     pp.plot(ht_1.sample_times, ht_1, label=l)\n",
    "#     pp.legend()\n",
    "#     pp.ylabel('Strain')\n",
    "#     pp.xlabel('Time')\n",
    "#     pp.grid()\n",
    "#     pp.show()\n",
    "    \n",
    "    \n",
    "    \n",
    "    return ht_1\n"
   ]
  },
  {
   "cell_type": "markdown",
   "id": "6b2a944e",
   "metadata": {},
   "source": [
    "# Creating overlapping signal"
   ]
  },
  {
   "cell_type": "code",
   "execution_count": 4,
   "id": "1e7956d8",
   "metadata": {},
   "outputs": [],
   "source": [
    "def overlap(ht_1,ht_2,buffer):\n",
    "    \n",
    "    #Equal lengths of signals\n",
    "    ht_2.resize(len(ht_1))\n",
    "    \n",
    "    #Shifting the merger time\n",
    "    ht_2=ht_2.cyclic_time_shift(ht_2.end_time - buffer)\n",
    "    \n",
    "    #Equating the start time of both signals\n",
    "    ht_2.start_time = ht_1.start_time\n",
    "    \n",
    "    #Combining the signals\n",
    "    ht_total = ht_1 + ht_2\n",
    "\n",
    "    #Ploting the signals\n",
    "#     pp.plot(ht_total.sample_times, ht_total, label='Overlapped')\n",
    "#     pp.legend()\n",
    "#     pp.title('Overlapped Signal')\n",
    "#     pp.ylabel('Strain')\n",
    "#     pp.xlabel('Time')\n",
    "#     pp.grid()\n",
    "#     pp.show()\n",
    "    \n",
    "    return ht_total,ht_2\n"
   ]
  },
  {
   "cell_type": "markdown",
   "id": "e3ac50e9",
   "metadata": {},
   "source": [
    "# Injecting strain into noise"
   ]
  },
  {
   "cell_type": "code",
   "execution_count": 5,
   "id": "8b1af937",
   "metadata": {},
   "outputs": [],
   "source": [
    "def inject(ht_total,ts):\n",
    "    \n",
    "    #Resizing the signal\n",
    "    ht_total.resize(len(ts)) \n",
    "    \n",
    "    #Equating the start time\n",
    "    ht_total.start_time = ts.start_time\n",
    "    \n",
    "    #Injecting signal into noise\n",
    "    ts = ts.add_into(ht_total) \n",
    "    \n",
    "    #plotting the result\n",
    "#     pp.plot(ts.sample_times, ts)\n",
    "#     pp.xlabel('Time(s)')\n",
    "#     pp.ylabel('Strain')\n",
    "#     pp.grid()\n",
    "#     pp.show()\n",
    "    \n",
    "    return ts \n",
    "\n",
    "\n"
   ]
  },
  {
   "cell_type": "markdown",
   "id": "d86d9dc4",
   "metadata": {},
   "source": [
    "# Calculating PSD"
   ]
  },
  {
   "cell_type": "code",
   "execution_count": null,
   "id": "4634e893",
   "metadata": {},
   "outputs": [],
   "source": [
    "# def psd_data(conditioned):\n",
    "\n",
    "    from pycbc.psd import interpolate, inverse_spectrum_truncation\n",
    "    # Estimate the power spectral density\n",
    "\n",
    "    # We use 4 second samples of our time series in Welch method.\n",
    "    psd = conditioned.psd(4)\n",
    "\n",
    "    # Now that we have the psd we need to interpolate it to match our data\n",
    "    # and then limit the filter length of 1 / PSD. After this, we can\n",
    "    # directly use this PSD to filter the data in a controlled manner\n",
    "\n",
    "    psd = interpolate(psd, conditioned.delta_f)\n",
    "\n",
    "    # 1/PSD will now act as a filter with an effective length of 4 seconds\n",
    "    # Since the data has been highpassed above 30 Hz, and will have low values\n",
    "    # below this we need to informat the function to not include frequencies\n",
    "    # below this frequency. \n",
    "    psd = inverse_spectrum_truncation(psd, int(4 * conditioned.sample_rate),\n",
    "                                      low_frequency_cutoff=30)\n",
    "\n",
    "#     pp.loglog(psd.sample_frequencies, psd)\n",
    "#     pp.ylabel('$Strain^2 / Hz$')\n",
    "#     pp.xlabel('Frequency (Hz)')\n",
    "#     pp.xlim(30, 1024)\n",
    "    \n",
    "    return psd"
   ]
  },
  {
   "cell_type": "markdown",
   "id": "54f0c568",
   "metadata": {},
   "source": [
    "# Creating template bank"
   ]
  },
  {
   "cell_type": "code",
   "execution_count": 7,
   "id": "a7804d81",
   "metadata": {},
   "outputs": [],
   "source": [
    "\n",
    "def template_bank(m_1,m_2,m_radius,temp_numb):\n",
    "\n",
    "    # Generate templates for BNS\n",
    "    temp_bank = np.zeros((temp_numb, 2))\n",
    "    for i in range(temp_numb):\n",
    "        r1 = np.random.uniform(0,m_radius)\n",
    "        r2 = np.random.uniform(0,(np.pi*2))           \n",
    "        m1 = r1*(np.cos(r2)) + m_1\n",
    "        m2 = r1*(np.sin(r2)) + m_2\n",
    "\n",
    "        temp_bank[i, :] = [m1, m2]\n",
    "\n",
    "    temp_bank[i,:] = [m_1,m_2]\n",
    "    \n",
    "    return temp_bank\n",
    "\n"
   ]
  },
  {
   "cell_type": "markdown",
   "id": "09a44564",
   "metadata": {},
   "source": [
    "# Generating template"
   ]
  },
  {
   "cell_type": "code",
   "execution_count": 8,
   "id": "4fc05f9f",
   "metadata": {},
   "outputs": [],
   "source": [
    "def gen_template(model,m1,m2,s1z,s2z,conditioned):\n",
    "    \n",
    "    from pycbc.detector import Detector\n",
    "    from pycbc.waveform import get_td_waveform\n",
    "\n",
    "    \n",
    "    ra = 1.7\n",
    "    dec = 1.7\n",
    "    pol = 0.2\n",
    "    inclination_1 = 0\n",
    "    time=0.0\n",
    "\n",
    "\n",
    "\n",
    "    # We can calcualate the antenna pattern for Hanford at\n",
    "    # the specific sky location\n",
    "    d = Detector(\"H1\")\n",
    "\n",
    "    # We get back the fp and fc antenna pattern weights.\n",
    "    fp, fc = d.antenna_pattern(ra, dec, pol, time)\n",
    "    \n",
    "    \n",
    "    \n",
    "    \n",
    "    hp, hc = get_td_waveform(approximant=model,\n",
    "                     mass1=m1,\n",
    "                     mass2=m2,spin1z=s1z,spin2z=s2z,\n",
    "                     delta_t=conditioned.delta_t,\n",
    "                     f_lower=30)\n",
    "    \n",
    "    \n",
    "    ht_template = fp * hp + fc * hc\n",
    "    \n",
    "    #Resizing the template to match data\n",
    "    ht_template.resize(len(conditioned))\n",
    "    \n",
    "    #Time shift \n",
    "    template = ht_template.cyclic_time_shift(ht_template.start_time)\n",
    "    \n",
    "   \n",
    "    return template\n"
   ]
  },
  {
   "cell_type": "markdown",
   "id": "36b5c8a6",
   "metadata": {},
   "source": [
    "# Generating SNR"
   ]
  },
  {
   "cell_type": "code",
   "execution_count": 9,
   "id": "7159e7b4",
   "metadata": {},
   "outputs": [],
   "source": [
    "def gen_SNR(template,conditioned,psd):\n",
    "    from pycbc.filter import matched_filter\n",
    "    import numpy\n",
    "\n",
    "    snr = matched_filter(template, conditioned,\n",
    "                         psd=psd, low_frequency_cutoff=30)\n",
    "\n",
    "\n",
    "\n",
    "    # The `matched_filter` function actually returns a 'complex' SNR.\n",
    "    # What that means is that the real portion correponds to the SNR\n",
    "    # associated with directly filtering the template with the data.\n",
    "    # The imaginary portion corresponds to filtering with a template that\n",
    "    # is 90 degrees out of phase. Since the phase of a signal may be \n",
    "    # anything, we choose to maximize over the phase of the signal.\n",
    "\n",
    "   \n",
    "    peak = abs(snr).numpy().argmax()\n",
    "    snrp = abs(snr[peak])\n",
    "    time = snr.sample_times[peak]\n",
    "   \n",
    "    \n",
    "    return snr,time,peak,snrp"
   ]
  },
  {
   "cell_type": "markdown",
   "id": "44ad8d9f",
   "metadata": {},
   "source": [
    "# Chi-square Test"
   ]
  },
  {
   "cell_type": "code",
   "execution_count": 10,
   "id": "6c9e21ba",
   "metadata": {},
   "outputs": [],
   "source": [
    "def gen_chisquare(temp,data,m_1,m_2,s_1,s_2,psd):\n",
    "    \n",
    "    n =int(0.72*pycbc.pnutils.get_freq('fSEOBNRv4Peak',m_1,m_2,s_1,s_2)**0.7)\n",
    "    \n",
    "    chisq = power_chisq(temp, data, n, psd=psd, low_frequency_cutoff=30.0)\n",
    "\n",
    "    # convert to a reduced chisq\n",
    "    chisq /= (n * 2) - 2\n",
    "    \n",
    "    \n",
    "    \n",
    "    return chisq\n"
   ]
  },
  {
   "cell_type": "markdown",
   "id": "90575f12",
   "metadata": {},
   "source": [
    "# Calculating SNR,Chi-square,New SNR for entire template bank"
   ]
  },
  {
   "cell_type": "code",
   "execution_count": 11,
   "id": "60fe6dd5",
   "metadata": {},
   "outputs": [],
   "source": [
    "def snr_chisq_nsnr(num_templates,temp_bank,psd,data,model,s):\n",
    "\n",
    "    template_info = []\n",
    "\n",
    "\n",
    "    for i in range(num_templates):\n",
    "        T1 = gen_template(model,temp_bank[i][0],temp_bank[i][1],s,s,data)\n",
    "\n",
    "        S1,time_bns,index_peak_bns,old_snr_bns = gen_SNR(T1,data,psd)\n",
    "\n",
    "        chisq_1 = gen_chisquare(T1,data,temp_bank[i,:][0],temp_bank[i,:][1],s,s,psd)\n",
    "        chisq_val_bns = chisq_1[index_peak_bns]\n",
    "\n",
    "        new_snr_bns = newsnr(abs(S1),chisq_1)\n",
    "\n",
    "        snrp_bns = new_snr_bns[index_peak_bns]\n",
    "\n",
    "        template_info.append([temp_bank[i,:][0],temp_bank[i,:][1],time_bns,old_snr_bns,snrp_bns,chisq_val_bns])\n",
    "\n",
    "    return template_info\n",
    "    "
   ]
  },
  {
   "cell_type": "markdown",
   "id": "829fb59b",
   "metadata": {},
   "source": [
    "# Recovery of signal"
   ]
  },
  {
   "cell_type": "code",
   "execution_count": 12,
   "id": "aed4c33a",
   "metadata": {},
   "outputs": [],
   "source": [
    "def recovery(data,n,bns_bank,bbh_bank,psd): \n",
    "    \n",
    "  \n",
    "\n",
    "    bns_info =  snr_chisq_nsnr(n,bns_bank,psd,data,'TaylorF2',0.05)\n",
    "\n",
    "    bbh_info =  snr_chisq_nsnr(n,bbh_bank,psd,data,'IMRPhenomPv2',0.8)\n",
    "\n",
    "    total_info = [*bbh_info,*bns_info]\n",
    "    \n",
    "    \n",
    "\n",
    "    info = {}\n",
    "    for i in total_info:\n",
    "        info.update({i[4] : [i[0],i[1],i[2],i[3],i[5]]})\n",
    "\n",
    "\n",
    "    snrp_1 = max(info.keys())\n",
    "    time_1 = info.get(max(info.keys()))[2]\n",
    "    m1_1 = info.get(max(info.keys()))[0]\n",
    "    m2_1 = info.get(max(info.keys()))[1]\n",
    "    chi_sq_1 = info.get(max(info.keys()))[4]\n",
    "\n",
    "    print(\"The signal detected is due to the following masses \",m1_1,\"M and \", m2_1, \"M at time \", time_1, \"seconds\", \" with new SNR value as\", snrp_1, \" and chi~square value as \", chi_sq_1 )\n",
    "    \n",
    "    \n",
    "    return m1_1,m2_1,time_1,snrp_1,total_info\n",
    "\n"
   ]
  },
  {
   "cell_type": "markdown",
   "id": "3f90e9e4",
   "metadata": {},
   "source": [
    "# Aligning and subtracting the recovered signal to find the other signal"
   ]
  },
  {
   "cell_type": "code",
   "execution_count": 13,
   "id": "6e1e1767",
   "metadata": {},
   "outputs": [],
   "source": [
    "def align_sub(m1_1,m2_1,time_1,snrp_1,data,psd):   \n",
    "    \n",
    "    # The time, amplitude, and phase of the SNR peak tell us how to align\n",
    "    # our proposed signal with the data.\n",
    "\n",
    "    # Shift the template to the peak time\n",
    "    dt = time_1 - data.start_time \n",
    "    \n",
    "    \n",
    "    if (m1_1 >= 15 and m2_1 >= 15) : \n",
    "        temp_sub  = gen_template('IMRPhenomPv2',m1_1,m2_1,0.8,0.8,data)\n",
    "        \n",
    "    else :\n",
    "        temp_sub = gen_template('TaylorF2',m1_1,m2_1,0.05,0.05,data)\n",
    "        \n",
    "     \n",
    "    \n",
    "    \n",
    "    aligned = temp_sub.cyclic_time_shift(dt)\n",
    "\n",
    "    # scale the template so that it would have SNR 1 in this data\n",
    "    aligned /= sigma(aligned, psd=psd, low_frequency_cutoff=30.0)\n",
    "\n",
    "    # Scale the template amplitude and phase to the peak value\n",
    "    aligned = (aligned.to_frequencyseries() * snrp_1).to_timeseries()\n",
    "    aligned.start_time = data.start_time\n",
    "\n",
    "    \n",
    "    subtracted = data - aligned\n",
    "    \n",
    "    psd2 = psd_data(subtracted)  \n",
    "\n",
    "    \n",
    "    return subtracted,psd2"
   ]
  },
  {
   "cell_type": "markdown",
   "id": "3a4d3004",
   "metadata": {},
   "source": [
    "# Creating Data"
   ]
  },
  {
   "cell_type": "markdown",
   "id": "07c9a6ff",
   "metadata": {},
   "source": [
    "### Noise generation followed by creating 2 signals i.e. BNS and BBH; overlapping them in such a way that their merger peaks differ by 5 seconds,followed by injection of this overlapped signal into noise.Creating a template bank and calculating psd for this data(strain+noise)\n"
   ]
  },
  {
   "cell_type": "code",
   "execution_count": 14,
   "id": "35e4dec6",
   "metadata": {},
   "outputs": [],
   "source": [
    "noise = gen_noise(False)\n",
    "\n",
    "h1_bns = gen_waveform('TaylorF2',1.4,1.3,0.05,0.05,350,0.0,\"BNS\")\n",
    "\n",
    "h1_bbh = gen_waveform('IMRPhenomPv2',30,40,0.8,0.8,5500,0.0,\"BBH\")\n",
    "\n",
    "ht_total,h1_bbh = overlap(h1_bns,h1_bbh,5)\n",
    "\n",
    "ts1 = inject(ht_total,noise)\n",
    "\n",
    "bns_templates = template_bank(1.4,1.3,0.25,3)\n",
    "\n",
    "bbh_templates = template_bank(30,40,10,3)\n",
    "\n",
    "psd1 = psd_data(ts1)  "
   ]
  },
  {
   "cell_type": "markdown",
   "id": "415e1c37",
   "metadata": {},
   "source": [
    "# Initiating the recovery process"
   ]
  },
  {
   "cell_type": "code",
   "execution_count": 15,
   "id": "796ff32b",
   "metadata": {},
   "outputs": [
    {
     "name": "stdout",
     "output_type": "stream",
     "text": [
      "The signal detected is due to the following masses  30.0 M and  40.0 M at time  251.000244140625 seconds  with new SNR value as 8.635529529314473  and chi~square value as  0.9272549625664297\n"
     ]
    }
   ],
   "source": [
    "\n",
    "mass_1,mass_2,time,snrp,total = recovery(ts1,3,bns_templates,bbh_templates,psd1)\n",
    "\n"
   ]
  },
  {
   "cell_type": "code",
   "execution_count": 16,
   "id": "3d0174a6",
   "metadata": {},
   "outputs": [
    {
     "name": "stdout",
     "output_type": "stream",
     "text": [
      "The signal detected is due to the following masses  1.4 M and  1.3 M at time  255.800048828125 seconds  with new SNR value as 7.445981973111216  and chi~square value as  1.1122420684957792\n",
      " \n",
      "The signal detected is due to the following masses  30.0 M and  40.0 M at time  251.000244140625 seconds  with new SNR value as 8.583843222228893  and chi~square value as  0.915250618212153\n",
      " \n",
      "The signal detected is due to the following masses  1.4 M and  1.3 M at time  255.800048828125 seconds  with new SNR value as 7.446576219573375  and chi~square value as  1.1122198695132448\n",
      " \n"
     ]
    }
   ],
   "source": [
    "for i in range(3):\n",
    "   \n",
    "    sub,psd_sub = align_sub(mass_1,mass_2,time,snrp,ts1,psd1)\n",
    "    M1,M2,T,SP,Tot = recovery(sub,3,bns_templates,bbh_templates,psd1)\n",
    "    mass_1=M1\n",
    "    mass_2=M2\n",
    "    time=T\n",
    "    snrp=SP\n",
    "    \n",
    "    total.extend([[0,0,0,0,0,0]])\n",
    "    total.extend(Tot)\n",
    "    \n",
    "    print(\" \")"
   ]
  },
  {
   "cell_type": "code",
   "execution_count": 17,
   "id": "edbc2760",
   "metadata": {},
   "outputs": [
    {
     "name": "stdout",
     "output_type": "stream",
     "text": [
      "[30.353882553083054, 39.06568383941927, 251.00048828125, 8.586350397185385, 8.565235585626157, 1.0098248308464426]\n",
      "[23.262139118038547, 44.573157432755984, 251.001220703125, 6.608186202462286, 5.969774393955021, 1.3889249414187717]\n",
      "[30.0, 40.0, 251.000244140625, 8.635529529314473, 8.635529529314473, 0.9272549625664297]\n",
      "[1.336897421661336, 1.1820520959047067, 361.46240234375, 5.374611333377173, 5.374611333377173, 0.9805070851506373]\n",
      "[1.3858629021499906, 1.433842431951303, 192.181640625, 5.378132271666368, 5.246802963940404, 1.0969056031012396]\n",
      "[1.4, 1.3, 255.800048828125, 7.758350086509608, 7.526116896691577, 1.1187025324362552]\n",
      "[0, 0, 0, 0, 0, 0]\n",
      "[30.353882553083054, 39.06568383941927, 240.380615234375, 5.094484187370699, 5.013291210098589, 1.0633628199406988]\n",
      "[23.262139118038547, 44.573157432755984, 504.40625, 5.141744027258681, 5.141744027258681, 0.853623482314273]\n",
      "[30.0, 40.0, 240.38037109375, 5.122937006169674, 5.059029370958772, 1.0496468677480255]\n",
      "[1.336897421661336, 1.1820520959047067, 361.46240234375, 5.37474337381553, 5.37474337381553, 0.9804048878983654]\n",
      "[1.3858629021499906, 1.433842431951303, 192.181640625, 5.378074314098064, 5.2469398380257815, 1.096763453629071]\n",
      "[1.4, 1.3, 255.800048828125, 7.66283387307045, 7.445981973111216, 1.1122420684957792]\n",
      "[0, 0, 0, 0, 0, 0]\n",
      "[30.353882553083054, 39.06568383941927, 251.00048828125, 8.542483166352872, 8.542483166352872, 0.993940430426569]\n",
      "[23.262139118038547, 44.573157432755984, 251.00146484375, 6.611288166831589, 6.007282057324018, 1.3668541813695476]\n",
      "[30.0, 40.0, 251.000244140625, 8.583843222228893, 8.583843222228893, 0.915250618212153]\n",
      "[1.336897421661336, 1.1820520959047067, 361.46240234375, 5.3745527459932685, 5.3745527459932685, 0.9803843533203563]\n",
      "[1.3858629021499906, 1.433842431951303, 192.181640625, 5.378225034126086, 5.24637766194266, 1.0972846733287678]\n",
      "[1.4, 1.3, 110.78271484375, 5.393101657549251, 5.338440070938507, 1.0403682909397522]\n",
      "[0, 0, 0, 0, 0, 0]\n",
      "[30.353882553083054, 39.06568383941927, 240.380615234375, 5.09448733916831, 5.013304548804178, 1.0633548653775928]\n",
      "[23.262139118038547, 44.573157432755984, 504.40625, 5.141743889587663, 5.141743889587663, 0.8536236894725869]\n",
      "[30.0, 40.0, 240.38037109375, 5.122940219339286, 5.059039462094833, 1.0496415147039568]\n",
      "[1.336897421661336, 1.1820520959047067, 361.46240234375, 5.3747425835124085, 5.3747425835124085, 0.9804054567084124]\n",
      "[1.3858629021499906, 1.433842431951303, 192.181640625, 5.378074660991978, 5.246939074694906, 1.0967642633619126]\n",
      "[1.4, 1.3, 255.800048828125, 7.663401137697685, 7.446576219573375, 1.1122198695132448]\n"
     ]
    }
   ],
   "source": [
    "for i in total:\n",
    "    print(i)"
   ]
  },
  {
   "cell_type": "markdown",
   "id": "b0f4a735",
   "metadata": {},
   "source": [
    "### Storing the values of every iteration to an excel file"
   ]
  },
  {
   "cell_type": "code",
   "execution_count": 18,
   "id": "6144eb40",
   "metadata": {},
   "outputs": [],
   "source": [
    "df_total_info = pd.DataFrame(total,columns = ['M1','M2','Time','Old_SNR','New_SNR','Chi-Sq.'])\n",
    "\n",
    "df_total_info.to_excel('Iterative_Signal_Recovery.xlsx',index = False)"
   ]
  },
  {
   "cell_type": "code",
   "execution_count": null,
   "id": "766ee03b",
   "metadata": {},
   "outputs": [],
   "source": []
  },
  {
   "cell_type": "code",
   "execution_count": null,
   "id": "2bd4de4c",
   "metadata": {},
   "outputs": [],
   "source": []
  },
  {
   "cell_type": "code",
   "execution_count": null,
   "id": "5084d830",
   "metadata": {},
   "outputs": [],
   "source": []
  },
  {
   "cell_type": "code",
   "execution_count": null,
   "id": "e97f237a",
   "metadata": {},
   "outputs": [],
   "source": []
  },
  {
   "cell_type": "code",
   "execution_count": null,
   "id": "2181374a",
   "metadata": {},
   "outputs": [],
   "source": []
  }
 ],
 "metadata": {
  "kernelspec": {
   "display_name": "Python 3 (ipykernel)",
   "language": "python",
   "name": "python3"
  },
  "language_info": {
   "codemirror_mode": {
    "name": "ipython",
    "version": 3
   },
   "file_extension": ".py",
   "mimetype": "text/x-python",
   "name": "python",
   "nbconvert_exporter": "python",
   "pygments_lexer": "ipython3",
   "version": "3.10.6"
  }
 },
 "nbformat": 4,
 "nbformat_minor": 5
}
