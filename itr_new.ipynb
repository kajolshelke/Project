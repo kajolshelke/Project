{
 "cells": [
  {
   "cell_type": "code",
   "execution_count": 1,
   "id": "1a7bd970",
   "metadata": {},
   "outputs": [],
   "source": [
    "import matplotlib.pyplot as pp\n",
    "import pycbc.noise\n",
    "import pycbc.psd\n",
    "import pycbc.filter\n",
    "from pycbc.filter import matched_filter\n",
    "from pycbc.waveform import get_td_waveform\n",
    "from pycbc.waveform import get_fd_waveform\n",
    "import numpy as np\n",
    "from pycbc.vetoes import power_chisq\n",
    "from pycbc.events.ranking import newsnr\n",
    "import pandas as pd\n",
    "from pycbc.filter import sigma\n",
    "import h5py\n",
    "from pycbc.types import timeseries\n",
    "from pycbc.types import TimeSeries\n",
    "import pylab as plt"
   ]
  },
  {
   "cell_type": "code",
   "execution_count": 2,
   "id": "24df8229-903f-4b07-9fef-9ad617333d35",
   "metadata": {},
   "outputs": [],
   "source": [
    "%matplotlib inline"
   ]
  },
  {
   "cell_type": "code",
   "execution_count": 48,
   "id": "8ddb2e41",
   "metadata": {},
   "outputs": [],
   "source": [
    "def psd_data(conditioned):\n",
    "\n",
    "    from pycbc.psd import interpolate, inverse_spectrum_truncation\n",
    "    # Estimate the power spectral density\n",
    "\n",
    "    # We use 4 second samples of our time series in Welch method.\n",
    "    psd = conditioned.psd(4)\n",
    "\n",
    "    # Now that we have the psd we need to interpolate it to match our data\n",
    "    # and then limit the filter length of 1 / PSD. After this, we can\n",
    "    # directly use this PSD to filter the data in a controlled manner\n",
    "\n",
    "    psd = interpolate(psd, conditioned.delta_f)\n",
    "\n",
    "    # 1/PSD will now act as a filter with an effective length of 4 seconds\n",
    "    # Since the data has been highpassed above 30 Hz, and will have low values\n",
    "    # below this we need to informat the function to not include frequencies\n",
    "    # below this frequency. \n",
    "    psd = inverse_spectrum_truncation(psd, int(4 * conditioned.sample_rate),\n",
    "                                      low_frequency_cutoff=30)\n",
    "\n",
    "#     pp.loglog(psd.sample_frequencies, psd)\n",
    "#     pp.ylabel('$Strain^2 / Hz$')\n",
    "#     pp.xlabel('Frequency (Hz)')\n",
    "#     pp.xlim(30, 1024)\n",
    "    \n",
    "    return psd"
   ]
  },
  {
   "cell_type": "code",
   "execution_count": 49,
   "id": "761dbd9b",
   "metadata": {},
   "outputs": [],
   "source": [
    "def gen_SNR(template,conditioned,psd):\n",
    "    \n",
    "\n",
    "    snr = matched_filter(template, conditioned,\n",
    "                         psd=psd, low_frequency_cutoff=30)\n",
    "\n",
    "    # The `matched_filter` function actually returns a 'complex' SNR.\n",
    "    # What that means is that the real portion correponds to the SNR\n",
    "    # associated with directly filtering the template with the data.\n",
    "    # The imaginary portion corresponds to filtering with a template that\n",
    "    # is 90 degrees out of phase. Since the phase of a signal may be \n",
    "    # anything, we choose to maximize over the phase of the signal.\n",
    "\n",
    "    peak = abs(snr).numpy().argmax()\n",
    "    snrp = abs(snr[peak])\n",
    "    snrp_compl = snr[peak]\n",
    "    time = snr.sample_times[peak]\n",
    "\n",
    "    return snr,time,peak,snrp,snrp_compl"
   ]
  },
  {
   "cell_type": "code",
   "execution_count": 50,
   "id": "ddd1562b",
   "metadata": {},
   "outputs": [],
   "source": [
    "def gen_chisquare(temp,data,m_1,m_2,s_1,s_2,psd):\n",
    "\n",
    "    n =int(0.72*pycbc.pnutils.get_freq('fSEOBNRv4Peak',m_1,m_2,s_1,s_2)**0.7)\n",
    "\n",
    "    chisq = power_chisq(temp, data, n, psd=psd, low_frequency_cutoff=30.0)\n",
    "\n",
    "    # convert to a reduced chisq\n",
    "    chisq /= (n * 2) - 2\n",
    "\n",
    "    return chisq"
   ]
  },
  {
   "cell_type": "code",
   "execution_count": 51,
   "id": "972a96e2-b91d-4582-a548-73626e86e4e7",
   "metadata": {},
   "outputs": [],
   "source": [
    "import os"
   ]
  },
  {
   "cell_type": "code",
   "execution_count": 52,
   "id": "6bd14082",
   "metadata": {},
   "outputs": [],
   "source": [
    "def snr_chisq_nsnr(num_templates,data_templates,psd,data,s):\n",
    "\n",
    "    template_info = []\n",
    "\n",
    "    for i in range(num_templates):\n",
    "        T1 = data_templates[i]\n",
    "\n",
    "        S1,time_peak,index_peak_bns,old_snr_bns,snrp_compl = gen_SNR(T1,data,psd)\n",
    "        if not os.path.exists(f\"Signals_BBH_BNS/snr_complete_series/snr{i}.hdf\"): \n",
    "            S1.save(f\"Signals_BBH_BNS/snr_complete_series/snr{i}.hdf\")\n",
    "\n",
    "        chisq_1 = gen_chisquare(T1,data,temp_bank[i][0],temp_bank[i][1],s,s,psd)\n",
    "        chisq_val_bns = chisq_1[index_peak_bns]\n",
    "\n",
    "        new_snr_bns = newsnr(abs(S1),chisq_1)\n",
    "        snrp_bns = new_snr_bns[index_peak_bns]\n",
    "\n",
    "        template_info.append([temp_bank[i][0],temp_bank[i][1],time_peak,old_snr_bns,snrp_bns,chisq_val_bns,i,snrp_compl])\n",
    "\n",
    "    return template_info"
   ]
  },
  {
   "cell_type": "code",
   "execution_count": 59,
   "id": "806f0320",
   "metadata": {},
   "outputs": [],
   "source": [
    "def recovery(data,n,data_templates,psd): \n",
    "\n",
    "    full__info =  snr_chisq_nsnr(n,data_templates,psd,data,0.)\n",
    "\n",
    "    info = {}\n",
    "    for i in  full__info:\n",
    "        print(i)\n",
    "        info.update({i[4] : [i[0],i[1],i[2],i[3],i[5],i[6],i[7]]})\n",
    "\n",
    "    snrp_1 = max(info.keys())\n",
    "    time_1 = info.get(max(info.keys()))[2]\n",
    "    m1_1 = info.get(max(info.keys()))[0]\n",
    "    m2_1 = info.get(max(info.keys()))[1]\n",
    "    chi_sq_1 = info.get(max(info.keys()))[4]\n",
    "    index = info.get(max(info.keys()))[5]\n",
    "    snrp_compl = info.get(max(info.keys()))[6]\n",
    "\n",
    "    print(\"The signal detected is due to the following masses \",m1_1,\"M and \", m2_1, \"M at time \", time_1, \"seconds\", \" with new SNR value as\", snrp_1, \" and chi~square value as \", chi_sq_1,\"at index\",index)\n",
    "\n",
    "    return m1_1,m2_1,time_1,snrp_1,full__info,index,snrp_compl"
   ]
  },
  {
   "cell_type": "code",
   "execution_count": 74,
   "id": "71f9d41c-b2a7-44b9-aaba-3a6b243f7e57",
   "metadata": {},
   "outputs": [],
   "source": [
    "def aligned_template(mass_1, mass_2, time, snrp_compl, ts1):\n",
    "    dt = time - ts1.start_time\n",
    "    temp_sub  = gen_template('IMRPhenomPv2', mass_1, mass_2, 0., 0., ts1)\n",
    "\n",
    "    aligned = temp_sub.cyclic_time_shift(dt)\n",
    "\n",
    "    aligned = (aligned.to_frequencyseries() * snrp_compl).to_timeseries() / abs(snrp_compl)\n",
    "    aligned.start_time = ts1.start_time\n",
    "\n",
    "    return aligned"
   ]
  },
  {
   "cell_type": "code",
   "execution_count": 84,
   "id": "293bae28",
   "metadata": {},
   "outputs": [],
   "source": [
    "def find_bns(index, mass_1, mass_2, time, snrp_compl, ts1):\n",
    "\n",
    "    T_B1 = data_templates[index]\n",
    "    T_B1_MF = timeseries.load_timeseries(f\"Signals_BBH_BNS/snr_complete_series/snr{index}.hdf\")\n",
    "\n",
    "    A = []\n",
    "    B = []\n",
    "    maxim_SNR = []\n",
    "    \n",
    "    aligned_temp = aligned_template(mass_1, mass_2, time, snrp_compl, ts1)\n",
    "\n",
    "    for i in range(40):\n",
    "        if i != index:\n",
    "            cross = matched_filter(aligned_temp, data_templates[i],\n",
    "                             psd=psd1, low_frequency_cutoff=30)\n",
    "\n",
    "            T_N1_MF = timeseries.load_timeseries(f\"Signals_BBH_BNS/snr_complete_series/snr{i}.hdf\")\n",
    "\n",
    "            A_B1 = (T_B1_MF - (cross*T_N1_MF))/(1-(cross**2))\n",
    "            A.append(A_B1)\n",
    "\n",
    "            A_N1 = (T_N1_MF - (cross*T_B1_MF))/(1-(cross**2))\n",
    "            B.append(A_N1) \n",
    "\n",
    "            norm = (A_B1**2) + (A_N1**2) + 2*(A_B1*A_N1*cross)\n",
    "\n",
    "            SNR = ((A_B1*T_B1_MF) + ( A_N1 * T_N1_MF))/norm\n",
    "\n",
    "            peak_SNR = abs(SNR).numpy().argmax()\n",
    "\n",
    "            SNR_p = abs(SNR[peak_SNR])\n",
    "\n",
    "            maxim_SNR.append([i,SNR_p,T_N1_MF[peak_SNR]])\n",
    "\n",
    "    M_SNR = 0\n",
    "    idx = 0\n",
    "    cSNR = 0\n",
    "\n",
    "    for i in range(len(maxim_SNR)):\n",
    "        if M_SNR < maxim_SNR[i][1]:\n",
    "            M_SNR = maxim_SNR[i][1]\n",
    "            idx = maxim_SNR[i][0]\n",
    "            cSNR = maxim_SNR[i][2]\n",
    "\n",
    "    return idx, M_SNR, temp_bank[idx][0], temp_bank[idx][1], SNR.sample_times[idx], cSNR"
   ]
  },
  {
   "cell_type": "code",
   "execution_count": 85,
   "id": "9013eb75",
   "metadata": {
    "tags": []
   },
   "outputs": [],
   "source": [
    "def find_bbh(index, mass_1, mass_2, time, snrp_compl, ts1):\n",
    "\n",
    "    T_N1 = data_templates[index]\n",
    "    T_N1_MF = timeseries.load_timeseries(f\"Signals_BBH_BNS/snr_complete_series/snr{index}.hdf\")\n",
    "\n",
    "    A = []\n",
    "    B = []\n",
    "    maxim_SNR = []\n",
    "    \n",
    "    aligned_temp = aligned_template(mass_1, mass_2, time, snrp_compl, ts1)\n",
    "\n",
    "    for i in range(40):\n",
    "        if i != index:\n",
    "            cross = matched_filter(aligned_temp, data_templates[i],\n",
    "                             psd=psd1, low_frequency_cutoff=30)\n",
    "\n",
    "            T_B1_MF = timeseries.load_timeseries(f\"Signals_BBH_BNS/snr_complete_series/snr{i}.hdf\")\n",
    "\n",
    "            A_B1 = (T_B1_MF - (cross*T_N1_MF))/(1-(cross**2))\n",
    "            A.append( A_B1 )\n",
    "\n",
    "            A_N1 = (T_N1_MF - (cross*T_B1_MF))/(1-(cross**2))\n",
    "            B.append(A_N1) \n",
    "\n",
    "            norm = (A_B1**2) + (A_N1**2) + 2*(A_B1*A_N1*cross)\n",
    "\n",
    "            SNR = ((A_B1*T_B1_MF) + ( A_N1 * T_N1_MF))/norm\n",
    "\n",
    "            peak_SNR = abs(SNR).numpy().argmax()\n",
    "\n",
    "            SNR_p = abs(SNR[peak_SNR])\n",
    "\n",
    "            maxim_SNR.append([i,SNR_p,T_B1_MF[peak_SNR]])\n",
    "\n",
    "    M_SNR = 0\n",
    "    idx = 0\n",
    "    cSNR = 0\n",
    "\n",
    "    for i in range(len(maxim_SNR)):\n",
    "        if M_SNR < maxim_SNR[i][1]:\n",
    "            M_SNR = maxim_SNR[i][1]\n",
    "            idx = maxim_SNR[i][0]\n",
    "            cSNR = maxim_SNR[i][2]\n",
    "\n",
    "    return idx, M_SNR, temp_bank[idx][0], temp_bank[idx][1], SNR.sample_times[idx], cSNR"
   ]
  },
  {
   "cell_type": "code",
   "execution_count": 57,
   "id": "82ae37c2",
   "metadata": {},
   "outputs": [],
   "source": [
    "data_templates = []\n",
    "\n",
    "for i in range(20):\n",
    "    T = timeseries.load_timeseries(f\"Signals_BBH_BNS/signal_bbh{i}.hdf\")\n",
    "    data_templates.append(T)\n",
    "for i in range(20):\n",
    "    R = timeseries.load_timeseries(f\"Signals_BBH_BNS/signal_bns{i}.hdf\")\n",
    "    data_templates.append(R)\n",
    "    \n",
    "temp_bank = pd.read_csv('Signals_BBH_BNS/Load_bbh_bns.csv')\n",
    "temp_bank = temp_bank.values.tolist()"
   ]
  },
  {
   "cell_type": "code",
   "execution_count": 87,
   "id": "17cd2428",
   "metadata": {
    "collapsed": true,
    "jupyter": {
     "outputs_hidden": true
    },
    "tags": []
   },
   "outputs": [
    {
     "name": "stdout",
     "output_type": "stream",
     "text": [
      "Recovery number: 0\n",
      " \n",
      "[25.3124840736438, 25.767297894745493, 99.815673828125, 273.60364011902243, 9.2224413207247, 1108.907377165605, 0, (-82.28428811689184+260.9372488079766j)]\n",
      "[19.66472776115617, 28.829538590310523, 99.82470703125, 228.69311854930618, 7.311330318721331, 1232.6980659710478, 1, (-122.75746983336815-192.9537407564744j)]\n",
      "[27.9260013682452, 28.42240443219461, 99.806884765625, 278.470200972511, 8.792975430208994, 1263.6565972479334, 2, (137.21480926255322+242.3174548989647j)]\n",
      "[27.191392084477236, 27.980437348212533, 99.807373046875, 281.24405259623416, 9.002068017954624, 1229.7743946030832, 3, (-92.75560795756877+265.5082189183136j)]\n",
      "[26.58109028449369, 33.05341387654879, 99.80615234375, 279.9335232856815, 8.095672920132415, 1506.4240663480477, 4, (279.4862575760245+15.818005098091753j)]\n",
      "[11.66828398486552, 35.14524881998979, 99.86474609375, 117.97886844624666, 3.6636057077615303, 1306.5749599546177, 5, (54.30349017968389-104.7384569017596j)]\n",
      "[20.938949466673236, 30.580004573878607, 99.816162109375, 277.8736906576434, 9.68760458954083, 1036.586102179222, 6, (-58.743892869831534-271.59334124789854j)]\n",
      "[15.362184881565412, 30.50255626440428, 99.862060546875, 147.66985056889993, 4.778239540236543, 1203.3477964852782, 7, (82.63972810417242+122.38079958028419j)]\n",
      "[27.70674527743604, 32.852693568030105, 99.805908203125, 279.38637136203596, 8.185991910708946, 1467.6116273058806, 8, (202.00535230206734-193.0040987755523j)]\n",
      "[20.0486782985882, 30.122577150376827, 99.81787109375, 250.45963890938, 8.610733465608067, 1065.9541855055893, 9, (218.90792989457373+121.69366849548669j)]\n",
      "[23.59713429090612, 20.9798831197469, 99.84423828125, 176.95606048448573, 5.4306027481320065, 1337.7598089773603, 10, (163.69455255158817-67.21265362358719j)]\n",
      "[14.979006085531667, 31.144638339889685, 99.86767578125, 145.5066223845845, 4.677783101601122, 1219.0701287617826, 11, (-118.75193177003386-84.08421884429497j)]\n",
      "[16.94856593875122, 38.00194745480375, 99.81640625, 278.5788104619375, 8.434138086738745, 1374.5421968475598, 12, (255.882158733322-110.13843325725625j)]\n",
      "[13.751641815788702, 31.056557369267846, 99.852294921875, 124.10012864109817, 3.85210443756054, 1307.650514277733, 13, (-123.90981720356027+6.870162248258308j)]\n",
      "[19.08426924320522, 36.116415859763634, 99.810302734375, 279.8855559089324, 8.227877248925296, 1457.9032255380139, 14, (-30.019032771105564-278.2710586423594j)]\n",
      "[23.3764778318749, 30.09963606398347, 99.8095703125, 287.2526846352651, 9.390810898817119, 1178.8684196334525, 15, (123.87464190319086-259.17017174729676j)]\n",
      "[29.006962549767906, 29.56686092873844, 99.806396484375, 279.60989522415497, 8.199785086355886, 1465.0197036404234, 16, (276.2684146747173-43.098219921261006j)]\n",
      "[10.645377712190893, 29.328613483327103, 99.90234375, 94.32964437075863, 3.0218090591770346, 1227.7379727350385, 17, (-33.942690516457496-88.01122410021225j)]\n",
      "[18.663620006336373, 28.896306421134952, 99.831298828125, 207.66160516523576, 6.869300646359401, 1151.4118540302416, 18, (-86.26051429260944+188.89803051852286j)]\n",
      "[20.0, 30.0, 99.8232421875, 248.69055879169264, 9.04753644333043, 951.9217410268648, 19, (-198.27454809263517+150.11394875488963j)]\n",
      "The signal detected is due to the following masses  20.938949466673236 M and  30.580004573878607 M at time  99.816162109375 seconds  with new SNR value as 9.68760458954083  and chi~square value as  1036.586102179222 at index 6\n",
      " \n"
     ]
    }
   ],
   "source": [
    "for j in range(1):\n",
    "\n",
    "    print(\"Recovery number:\",j)\n",
    "    print(' ')\n",
    "\n",
    "    # ts1 = timeseries.load_timeseries(f\"Signals_BBH_BNS/Data_{j}.hdf\")\n",
    "    psd1 = psd_data(ts1)\n",
    "    mass_1,mass_2,time,snrp,total,index,snrp_compl = recovery(ts1,20,data_templates,psd1)\n",
    "\n",
    "    print(' ')"
   ]
  },
  {
   "cell_type": "code",
   "execution_count": null,
   "id": "2fe91a43-5aa6-402d-9ac6-d240c50ba9dc",
   "metadata": {
    "tags": []
   },
   "outputs": [],
   "source": [
    "index = 6\n",
    "for i in range(10):\n",
    "    ibns, snrp_bns, mass_1, mass_2, time, snrp_compl = find_bns(index, mass_1, mass_2, time, snrp_compl, ts1)\n",
    "    ibbh, snrp_bbh, mass_1, mass_2, time, snrp_compl = find_bbh(ibns, mass_1, mass_2, time, snrp_compl, ts1)\n",
    "    print(temp_bank[ibns], snrp_bns, temp_bank[ibbh], snrp_bbh)\n",
    "    index = ibbh"
   ]
  },
  {
   "cell_type": "code",
   "execution_count": null,
   "id": "1ac15a93-e51f-48e3-9957-a2f9c43d607f",
   "metadata": {},
   "outputs": [],
   "source": []
  },
  {
   "cell_type": "code",
   "execution_count": null,
   "id": "bbafe371-5aed-4781-a5f1-1d84c7821b23",
   "metadata": {},
   "outputs": [],
   "source": []
  },
  {
   "cell_type": "code",
   "execution_count": null,
   "id": "b5ed0865-aad2-4215-9a86-362c6f0f4753",
   "metadata": {},
   "outputs": [],
   "source": []
  },
  {
   "cell_type": "code",
   "execution_count": 90,
   "id": "2a22e732-bf79-4815-b95d-894693fe7d69",
   "metadata": {},
   "outputs": [
    {
     "data": {
      "text/plain": [
       "(20.938949466673236,\n",
       " 30.580004573878607,\n",
       " 99.816162109375,\n",
       " 9.68760458954083,\n",
       " 6,\n",
       " (-58.743892869831534-271.59334124789854j))"
      ]
     },
     "execution_count": 90,
     "metadata": {},
     "output_type": "execute_result"
    }
   ],
   "source": [
    "mass_1,mass_2,time,snrp,index,snrp_compl"
   ]
  },
  {
   "cell_type": "markdown",
   "id": "d01d786d-1807-40ed-8d42-5f6f4869e73c",
   "metadata": {},
   "source": [
    "---"
   ]
  },
  {
   "cell_type": "code",
   "execution_count": 66,
   "id": "62e01a03-af1a-458c-941b-b92bb18c1215",
   "metadata": {},
   "outputs": [
    {
     "data": {
      "text/plain": [
       "[<matplotlib.lines.Line2D at 0x7fdb7b622250>]"
      ]
     },
     "execution_count": 66,
     "metadata": {},
     "output_type": "execute_result"
    },
    {
     "data": {
      "image/png": "[encoded data removed]",
      "text/plain": [
       "<Figure size 640x480 with 1 Axes>"
      ]
     },
     "metadata": {},
     "output_type": "display_data"
    }
   ],
   "source": [
    "ts1.plot()"
   ]
  },
  {
   "cell_type": "code",
   "execution_count": 91,
   "id": "6d3b8137-253e-43f5-a566-3edb60d8a70f",
   "metadata": {},
   "outputs": [],
   "source": [
    "T_B1 = data_templates[index]\n",
    "T_B1_MF = timeseries.load_timeseries(f\"Signals_BBH_BNS/snr_complete_series/snr{index}.hdf\")\n",
    "\n",
    "A = []\n",
    "B = []\n",
    "maxim_SNR = []\n",
    "\n",
    "aligned_temp = aligned_template(mass_1, mass_2, time, snrp_compl, ts1)"
   ]
  },
  {
   "cell_type": "code",
   "execution_count": 92,
   "id": "c26851dc-72b6-41af-b13b-50ef2bf346d1",
   "metadata": {},
   "outputs": [
    {
     "data": {
      "text/plain": [
       "[<matplotlib.lines.Line2D at 0x7fdb59e63dd0>]"
      ]
     },
     "execution_count": 92,
     "metadata": {},
     "output_type": "execute_result"
    },
    {
     "data": {
      "image/png": "[encoded data removed]",
      "text/plain": [
       "<Figure size 640x480 with 1 Axes>"
      ]
     },
     "metadata": {},
     "output_type": "display_data"
    }
   ],
   "source": [
    "aligned_temp.plot()"
   ]
  },
  {
   "cell_type": "code",
   "execution_count": 96,
   "id": "b336634f-2c1f-46b1-947c-043e6cfdd56f",
   "metadata": {},
   "outputs": [],
   "source": [
    "i = 0\n",
    "cross = matched_filter(data_templates[i], aligned_temp,\n",
    "                 psd=psd1, low_frequency_cutoff=30)"
   ]
  },
  {
   "cell_type": "code",
   "execution_count": 97,
   "id": "9cd4b030-61b2-4784-877d-9b15114bd2e4",
   "metadata": {},
   "outputs": [
    {
     "data": {
      "text/plain": [
       "([<matplotlib.lines.Line2D at 0x7fdb4f98a450>],\n",
       " [<matplotlib.lines.Line2D at 0x7fdb4f98a750>])"
      ]
     },
     "execution_count": 97,
     "metadata": {},
     "output_type": "execute_result"
    },
    {
     "data": {
      "image/png": "[encoded data removed]",
      "text/plain": [
       "<Figure size 640x480 with 1 Axes>"
      ]
     },
     "metadata": {},
     "output_type": "display_data"
    }
   ],
   "source": [
    "cross.plot()"
   ]
  },
  {
   "cell_type": "code",
   "execution_count": 98,
   "id": "2bbba6fa-5b1a-4313-a1ce-ff3e2a8b39f2",
   "metadata": {},
   "outputs": [],
   "source": [
    "T_N1_MF = timeseries.load_timeseries(f\"Signals_BBH_BNS/snr_complete_series/snr{i}.hdf\")"
   ]
  },
  {
   "cell_type": "code",
   "execution_count": null,
   "id": "1b9b5d5f-686a-4da7-9122-62e4b2d7b49e",
   "metadata": {},
   "outputs": [],
   "source": []
  },
  {
   "cell_type": "code",
   "execution_count": null,
   "id": "2685d3d4-2b84-4d86-89ca-58e237089ea7",
   "metadata": {},
   "outputs": [],
   "source": [
    "A_B1 = (T_B1_MF - (cross*T_N1_MF))/(1-(cross**2))\n",
    "A.append(A_B1)\n",
    "\n",
    "A_N1 = (T_N1_MF - (cross*T_B1_MF))/(1-(cross**2))\n",
    "B.append(A_N1) \n",
    "\n",
    "norm = (A_B1**2) + (A_N1**2) + 2*(A_B1*A_N1*cross)\n",
    "\n",
    "SNR = ((A_B1*T_B1_MF) + ( A_N1 * T_N1_MF))/norm\n",
    "\n",
    "peak_SNR = abs(SNR).numpy().argmax()\n",
    "\n",
    "SNR_p = abs(SNR[peak_SNR])\n",
    "\n",
    "maxim_SNR.append([i,SNR_p,T_N1_MF[peak_SNR]])\n",
    "\n",
    "M_SNR = 0\n",
    "idx = 0\n",
    "cSNR = 0\n",
    "\n",
    "for i in range(len(maxim_SNR)):\n",
    "    if M_SNR < maxim_SNR[i][1]:\n",
    "        M_SNR = maxim_SNR[i][1]\n",
    "        idx = maxim_SNR[i][0]\n",
    "        cSNR = maxim_SNR[i][2]"
   ]
  },
  {
   "cell_type": "code",
   "execution_count": null,
   "id": "de342540-34b9-4be9-9285-115b3b833b75",
   "metadata": {},
   "outputs": [],
   "source": []
  },
  {
   "cell_type": "code",
   "execution_count": null,
   "id": "70a14c83-e49b-4d3d-b6b5-8a484401fd60",
   "metadata": {},
   "outputs": [],
   "source": []
  },
  {
   "cell_type": "code",
   "execution_count": null,
   "id": "8209cc11-6541-4866-9b16-7c12cce917ab",
   "metadata": {},
   "outputs": [],
   "source": []
  },
  {
   "cell_type": "code",
   "execution_count": null,
   "id": "620ebd1f-35b2-4f3f-a158-481094530b81",
   "metadata": {},
   "outputs": [],
   "source": []
  },
  {
   "cell_type": "code",
   "execution_count": 67,
   "id": "fd37eed0-11a4-444a-b816-ec970083dfe8",
   "metadata": {},
   "outputs": [
    {
     "data": {
      "text/plain": [
       "((-58.743892869831534-271.59334124789854j),\n",
       " 99.816162109375,\n",
       " 20.938949466673236,\n",
       " 30.580004573878607)"
      ]
     },
     "execution_count": 67,
     "metadata": {},
     "output_type": "execute_result"
    }
   ],
   "source": [
    "snrp_compl,time,mass_1,mass_2"
   ]
  },
  {
   "cell_type": "code",
   "execution_count": 72,
   "id": "be89248a-72e1-4759-b3c0-2d1aba202caa",
   "metadata": {},
   "outputs": [],
   "source": []
  },
  {
   "cell_type": "code",
   "execution_count": null,
   "id": "70c58ba0-3bee-4907-8837-fe3e3d7db74a",
   "metadata": {},
   "outputs": [],
   "source": []
  },
  {
   "cell_type": "code",
   "execution_count": null,
   "id": "4fd0970c-9797-4edb-ae66-e49028987bcd",
   "metadata": {},
   "outputs": [],
   "source": []
  },
  {
   "cell_type": "code",
   "execution_count": null,
   "id": "619d915f-515f-4d64-823b-09697ea130e2",
   "metadata": {},
   "outputs": [],
   "source": []
  },
  {
   "cell_type": "code",
   "execution_count": null,
   "id": "fe50464a-09cb-4873-b837-c294bf0904a3",
   "metadata": {},
   "outputs": [],
   "source": []
  },
  {
   "cell_type": "code",
   "execution_count": null,
   "id": "a71a3b7c-87fb-41ac-a2ec-489681a26997",
   "metadata": {},
   "outputs": [],
   "source": []
  },
  {
   "cell_type": "code",
   "execution_count": 30,
   "id": "65d556bb-7c55-433b-8097-936304eece5b",
   "metadata": {},
   "outputs": [],
   "source": [
    "cross1 = matched_filter(data_templates[1], data_templates[21],\n",
    "                             psd=psd1, low_frequency_cutoff=30)\n",
    "\n",
    "cross2 = matched_filter(data_templates[21], data_templates[1],\n",
    "                             psd=psd1, low_frequency_cutoff=30)"
   ]
  },
  {
   "cell_type": "code",
   "execution_count": 69,
   "id": "51dc3b93-c6c7-4932-b4b5-6b38898e621d",
   "metadata": {},
   "outputs": [],
   "source": [
    "def gen_template(model,m1,m2,s1z,s2z,conditioned):\n",
    "    \n",
    "    from pycbc.detector import Detector\n",
    "    from pycbc.waveform import get_td_waveform\n",
    "\n",
    "    \n",
    "    ra = 1.7\n",
    "    dec = 1.7\n",
    "    pol = 0.2\n",
    "    inclination_1 = 0\n",
    "    time=0.0\n",
    "\n",
    "\n",
    "\n",
    "    # We can calcualate the antenna pattern for Hanford at\n",
    "    # the specific sky location\n",
    "    d = Detector(\"H1\")\n",
    "\n",
    "    # We get back the fp and fc antenna pattern weights.\n",
    "    fp, fc = d.antenna_pattern(ra, dec, pol, time)\n",
    "    \n",
    "    \n",
    "    \n",
    "    \n",
    "    hp, hc = get_td_waveform(approximant=model,\n",
    "                     mass1=m1,\n",
    "                     mass2=m2,spin1z=s1z,spin2z=s2z,\n",
    "                     delta_t=conditioned.delta_t,\n",
    "                     f_lower=30)\n",
    "    \n",
    "    \n",
    "    ht_template = fp * hp + fc * hc\n",
    "    \n",
    "    #Resizing the template to match data\n",
    "    ht_template.resize(len(conditioned))\n",
    "    \n",
    "    #Time shift \n",
    "    template = ht_template.cyclic_time_shift(ht_template.start_time)\n",
    "    \n",
    "   \n",
    "    return template\n"
   ]
  },
  {
   "cell_type": "code",
   "execution_count": 39,
   "id": "614f3c1a",
   "metadata": {},
   "outputs": [],
   "source": [
    "def gen_waveform(model,m1,m2,s1z,s2z,distance,time,l):\n",
    "    \n",
    "    from pycbc.detector import Detector\n",
    "    from pycbc.waveform import get_td_waveform\n",
    "\n",
    "    ra = 1.7\n",
    "    dec = 1.7\n",
    "    pol = 0.2\n",
    "    inclination_1 = 0\n",
    "    d = Detector(\"H1\")\n",
    "\n",
    "    # We get back the fp and fc antenna pattern weights.\n",
    "    fp, fc = d.antenna_pattern(ra, dec, pol, time)\n",
    "    hp_1, hc_1 = get_td_waveform(approximant=model,\n",
    "                             mass1=m1, mass2=m2,spin1z=s1z,spin2z=s2z,\n",
    "                             distance=distance, inclination=inclination_1,\n",
    "                             delta_t=1.0/4096, f_lower=30)\n",
    "\n",
    "    ht_1 = fp * hp_1 + fc * hc_1\n",
    "\n",
    "    return ht_1"
   ]
  },
  {
   "cell_type": "code",
   "execution_count": 40,
   "id": "a9e117a4",
   "metadata": {},
   "outputs": [],
   "source": [
    "def overlap(ht_1,ht_2,buffer):\n",
    "\n",
    "    if len(ht_1) < len(ht_2):\n",
    "        ht_small, ht_big = ht_1, ht_2\n",
    "    else:\n",
    "        ht_small, ht_big = ht_2, ht_1\n",
    "\n",
    "    dt = ht_small.delta_t\n",
    "\n",
    "    # make buffer int multiple of dt\n",
    "    buffer = np.round(buffer*ht_big.sample_rate)/ht_big.sample_rate\n",
    "    # elongate the long template to accomodate enough space on left\n",
    "    ht_big.resize(len(ht_big)+int(buffer*ht_big.sample_rate))\n",
    "    # match small template\n",
    "    ht_small.resize(len(ht_big))\n",
    "    # correct the position after resizing\n",
    "    ht_big = ht_big.cyclic_time_shift(buffer)\n",
    "    #Shifting the merger time\n",
    "    ht_small = ht_small.cyclic_time_shift(ht_small.start_time-ht_big.start_time-buffer)\n",
    "    #Equating the start time of both signals\n",
    "    ht_small.start_time = ht_big.start_time\n",
    "    # resample to original sample rate\n",
    "    ht_big = ht_big.resample(dt)\n",
    "    ht_small = ht_small.resample(dt)\n",
    "\n",
    "    #Combining the signals\n",
    "    ht_total = ht_small + ht_big\n",
    "\n",
    "    return ht_total,ht_2"
   ]
  },
  {
   "cell_type": "code",
   "execution_count": 41,
   "id": "2c247a2e-7a1e-4a9c-a01b-f145e59080fe",
   "metadata": {},
   "outputs": [],
   "source": [
    "def gen_noise(psd_need):\n",
    "\n",
    "    # The color of the noise matches a PSD which you provide\n",
    "    flow = 30.0\n",
    "    delta_f = 1.0 / 16\n",
    "    flen = int(2048 / delta_f) + 1\n",
    "    psd = pycbc.psd.aLIGOZeroDetHighPower(flen, delta_f, flow)\n",
    "\n",
    "    # Generate 256 seconds of noise at 4096 Hz\n",
    "    delta_t = 1.0 / 4096\n",
    "    tsamples = int(256/ delta_t)\n",
    "    ts = pycbc.noise.gaussian.noise_from_psd(tsamples,delta_t, psd, seed=127)\n",
    "\n",
    "    return ts"
   ]
  },
  {
   "cell_type": "code",
   "execution_count": 45,
   "id": "198dc7ac",
   "metadata": {},
   "outputs": [],
   "source": [
    "def inject(ht_total,ts,injtime):\n",
    "\n",
    "    # append extra zeros than required\n",
    "    ht_total.append_zeros(int((ts.duration-injtime)*1.2*4096))\n",
    "\n",
    "    ht_total = ht_total.cyclic_time_shift(int(injtime + ht_total.start_time))\n",
    "    ht_total = ht_total.resample(ts.delta_t)\n",
    "\n",
    "    #Resizing the signal\n",
    "    ht_total.resize(len(ts))\n",
    "\n",
    "    #Equating the start time\n",
    "    ht_total.start_time = ts.start_time\n",
    "\n",
    "    #Injecting signal into noise\n",
    "    ts = ts.add_into(ht_total)\n",
    "\n",
    "    #plotting the result\n",
    "    pp.plot(ts.sample_times, ts)\n",
    "    pp.xlabel('Time(s)')\n",
    "    pp.ylabel('Strain')\n",
    "    pp.grid()\n",
    "    pp.show()\n",
    "\n",
    "    return ts"
   ]
  },
  {
   "cell_type": "code",
   "execution_count": 62,
   "id": "5f919220-a551-4e50-9a07-02ff7bab044b",
   "metadata": {},
   "outputs": [
    {
     "name": "stdout",
     "output_type": "stream",
     "text": [
      "BBH: (13.751641815788702, 31.056557369267846), BNS: (1.352146060337832, 1.2530419301828557)\n"
     ]
    }
   ],
   "source": [
    "i1 = 13\n",
    "i2 = 31\n",
    "m1_1 = temp_bank[i1][0]\n",
    "m2_1 = temp_bank[i1][1]\n",
    "m1_2 = temp_bank[i2][0]\n",
    "m2_2 = temp_bank[i2][1]\n",
    "buffer = 0.3\n",
    "noise = gen_noise(False)\n",
    "\n",
    "print(f'BBH: ({m1_1}, {m2_1}), BNS: ({m1_2}, {m2_2})')"
   ]
  },
  {
   "cell_type": "code",
   "execution_count": 63,
   "id": "c511804c-3356-41f6-8de6-49b00d56ef89",
   "metadata": {},
   "outputs": [
    {
     "data": {
      "image/png": "[encoded data removed]",
      "text/plain": [
       "<Figure size 640x480 with 1 Axes>"
      ]
     },
     "metadata": {},
     "output_type": "display_data"
    }
   ],
   "source": [
    "h1_bbh = gen_waveform('IMRPhenomPv2', m1_1, m2_1, 0., 0., 50, 0., \"BBH\")\n",
    "h1_bns = gen_waveform('TaylorF2', m1_2, m2_2, 0., 0., 2, 0., \"BNS\")\n",
    "\n",
    "ht_total,h1_bbh = overlap(h1_bbh,h1_bns,buffer)\n",
    "ts1 = inject(ht_total,noise,100)"
   ]
  },
  {
   "cell_type": "code",
   "execution_count": null,
   "id": "99af7a39-d95d-426e-bd93-91f7f08b8e2b",
   "metadata": {},
   "outputs": [],
   "source": []
  }
 ],
 "metadata": {
  "kernelspec": {
   "display_name": "Python 3 (ipykernel)",
   "language": "python",
   "name": "python3"
  },
  "language_info": {
   "codemirror_mode": {
    "name": "ipython",
    "version": 3
   },
   "file_extension": ".py",
   "mimetype": "text/x-python",
   "name": "python",
   "nbconvert_exporter": "python",
   "pygments_lexer": "ipython3",
   "version": "3.7.13"
  }
 },
 "nbformat": 4,
 "nbformat_minor": 5
}
