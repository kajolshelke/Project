{
 "cells": [
  {
   "cell_type": "code",
   "execution_count": 1,
   "id": "2a455ef9",
   "metadata": {},
   "outputs": [
    {
     "name": "stderr",
     "output_type": "stream",
     "text": [
      "PyCBC.libutils: pkg-config call failed, setting NO_PKGCONFIG=1\n"
     ]
    }
   ],
   "source": [
    "import matplotlib.pyplot as pp\n",
    "import pycbc.noise\n",
    "import pycbc.psd\n",
    "import pycbc.filter\n",
    "from pycbc.waveform import get_td_waveform\n",
    "from pycbc.waveform import get_fd_waveform\n",
    "import numpy as np\n",
    "from pycbc.vetoes import power_chisq\n",
    "from pycbc.events.ranking import newsnr\n",
    "import pandas as pd\n",
    "from pycbc.filter import sigma\n",
    "import h5py\n"
   ]
  },
  {
   "cell_type": "code",
   "execution_count": 2,
   "id": "9ea77eac",
   "metadata": {},
   "outputs": [],
   "source": [
    "def gen_noise():\n",
    "    \n",
    "    # The color of the noise matches a PSD which you provide\n",
    "    flow = 30.0\n",
    "    delta_f = 1.0 / 16\n",
    "    flen = int(2048 / delta_f) + 1\n",
    "    psd = pycbc.psd.aLIGOZeroDetHighPower(flen, delta_f, flow)\n",
    "\n",
    "   \n",
    "\n",
    "    # Generate 256 seconds of noise at 4096 Hz\n",
    "    delta_t = 1.0 / 4096\n",
    "    tsamples = int(256/ delta_t)\n",
    "    ts = pycbc.noise.gaussian.noise_from_psd(tsamples,delta_t, psd, seed=127)\n",
    "    \n",
    "   \n",
    "\n",
    "    return ts"
   ]
  },
  {
   "cell_type": "code",
   "execution_count": 3,
   "id": "66a77a1c",
   "metadata": {},
   "outputs": [],
   "source": [
    "def gen_waveform(model,m1,m2,s1z,s2z,distance,time,l):\n",
    "    \n",
    "    from pycbc.detector import Detector\n",
    "    from pycbc.waveform import get_td_waveform\n",
    "\n",
    "    ra = 1.7\n",
    "    dec = 1.7\n",
    "    pol = 0.2\n",
    "    inclination_1 = 0\n",
    "    d = Detector(\"H1\")\n",
    "\n",
    "   \n",
    "    fp, fc = d.antenna_pattern(ra, dec, pol, time)\n",
    "    hp_1, hc_1 = get_td_waveform(approximant=model,\n",
    "                             mass1=m1, mass2=m2,spin1z=s1z,spin2z=s2z,\n",
    "                             distance=distance, inclination=inclination_1,\n",
    "                             delta_t=1.0/4096, f_lower=30)\n",
    "\n",
    "    ht_1 = fp * hp_1 + fc * hc_1\n",
    "\n",
    "    return ht_1"
   ]
  },
  {
   "cell_type": "code",
   "execution_count": 4,
   "id": "a59dd5b4",
   "metadata": {},
   "outputs": [],
   "source": [
    "def overlap(ht_1,ht_2,buffer):\n",
    "\n",
    "    if len(ht_1) < len(ht_2):\n",
    "        ht_small, ht_big = ht_1, ht_2\n",
    "    else:\n",
    "        ht_small, ht_big = ht_2, ht_1\n",
    "\n",
    "    dt = ht_small.delta_t\n",
    "\n",
    "    # make buffer int multiple of dt\n",
    "    buffer = np.round(buffer*ht_big.sample_rate)/ht_big.sample_rate\n",
    "    # elongate the long template to accomodate enough space on left\n",
    "    ht_big.resize(len(ht_big)+int(buffer*ht_big.sample_rate))\n",
    "    # match small template\n",
    "    ht_small.resize(len(ht_big))\n",
    "    # correct the position after resizing\n",
    "    ht_big = ht_big.cyclic_time_shift(buffer)\n",
    "    #Shifting the merger time\n",
    "    ht_small = ht_small.cyclic_time_shift(ht_small.start_time-ht_big.start_time-buffer)\n",
    "    #Equating the start time of both signals\n",
    "    ht_small.start_time = ht_big.start_time\n",
    "    # resample to original sample rate\n",
    "    ht_big = ht_big.resample(dt)\n",
    "    ht_small = ht_small.resample(dt)\n",
    "\n",
    "    #Combining the signals\n",
    "    ht_total = ht_small + ht_big\n",
    "\n",
    "    return ht_total,ht_2"
   ]
  },
  {
   "cell_type": "code",
   "execution_count": 5,
   "id": "2b64f4a5",
   "metadata": {},
   "outputs": [],
   "source": [
    "def inject(ht_total,ts,injtime):\n",
    "\n",
    "    # append extra zeros than required\n",
    "    ht_total.append_zeros(int((ts.duration-injtime)*1.2*4096))\n",
    "\n",
    "    ht_total = ht_total.cyclic_time_shift(int(injtime + ht_total.start_time))\n",
    "    ht_total = ht_total.resample(ts.delta_t)\n",
    "\n",
    "    #Resizing the signal\n",
    "    ht_total.resize(len(ts))\n",
    "\n",
    "    #Equating the start time\n",
    "    ht_total.start_time = ts.start_time\n",
    "\n",
    "    #Injecting signal into noise\n",
    "    ts = ts.add_into(ht_total)\n",
    "\n",
    "    #plotting the result\n",
    "    # pp.plot(ts.sample_times, ts)\n",
    "    # pp.xlabel('Time(s)')\n",
    "    # pp.ylabel('Strain')\n",
    "    # pp.grid()\n",
    "    # pp.show()\n",
    "\n",
    "    return ts"
   ]
  },
  {
   "cell_type": "code",
   "execution_count": 6,
   "id": "a2a4e30a",
   "metadata": {},
   "outputs": [],
   "source": [
    "def psd_data(conditioned):\n",
    "\n",
    "    from pycbc.psd import interpolate, inverse_spectrum_truncation\n",
    "    # Estimate the power spectral density\n",
    "\n",
    "    # We use 4 second samples of our time series in Welch method.\n",
    "    psd = conditioned.psd(4)\n",
    "\n",
    "    # Now that we have the psd we need to interpolate it to match our data\n",
    "    # and then limit the filter length of 1 / PSD. After this, we can\n",
    "    # directly use this PSD to filter the data in a controlled manner\n",
    "\n",
    "    psd = interpolate(psd, conditioned.delta_f)\n",
    "\n",
    "    # 1/PSD will now act as a filter with an effective length of 4 seconds\n",
    "    # Since the data has been highpassed above 30 Hz, and will have low values\n",
    "    # below this we need to informat the function to not include frequencies\n",
    "    # below this frequency. \n",
    "    psd = inverse_spectrum_truncation(psd, int(4 * conditioned.sample_rate),\n",
    "                                      low_frequency_cutoff=30)\n",
    "\n",
    "#     pp.loglog(psd.sample_frequencies, psd)\n",
    "#     pp.ylabel('$Strain^2 / Hz$')\n",
    "#     pp.xlabel('Frequency (Hz)')\n",
    "#     pp.xlim(30, 1024)\n",
    "    \n",
    "    return psd"
   ]
  },
  {
   "cell_type": "code",
   "execution_count": 7,
   "id": "fbdc2ec3",
   "metadata": {},
   "outputs": [],
   "source": [
    "def template_bank(m_1,m_2,m_radius,temp_numb):\n",
    "\n",
    "    # Generate templates for BNS\n",
    "    temp_bank = np.zeros((temp_numb, 2))\n",
    "    for i in range(temp_numb):\n",
    "        r1 = np.random.uniform(0,m_radius)\n",
    "        r2 = np.random.uniform(0,(np.pi*2))           \n",
    "        m1 = r1*(np.cos(r2)) + m_1\n",
    "        m2 = r1*(np.sin(r2)) + m_2\n",
    "\n",
    "        temp_bank[i, :] = [m1, m2]\n",
    "\n",
    "    temp_bank[i,:] = [m_1,m_2]\n",
    "    \n",
    "    return temp_bank"
   ]
  },
  {
   "cell_type": "code",
   "execution_count": 8,
   "id": "9ff680df",
   "metadata": {},
   "outputs": [],
   "source": [
    "def gen_template(model,m1,m2,s1z,s2z,conditioned):\n",
    "    \n",
    "    from pycbc.detector import Detector\n",
    "    from pycbc.waveform import get_td_waveform\n",
    "\n",
    "    \n",
    "    ra = 1.7\n",
    "    dec = 1.7\n",
    "    pol = 0.2\n",
    "    inclination_1 = 0\n",
    "    time=0.0\n",
    "\n",
    "\n",
    "\n",
    "    # We can calcualate the antenna pattern for Hanford at\n",
    "    # the specific sky location\n",
    "    d = Detector(\"H1\")\n",
    "\n",
    "    # We get back the fp and fc antenna pattern weights.\n",
    "    fp, fc = d.antenna_pattern(ra, dec, pol, time)\n",
    "    \n",
    "    \n",
    "    \n",
    "    hp, hc = get_td_waveform(approximant=model,\n",
    "                     mass1=m1,\n",
    "                     mass2=m2,spin1z=s1z,spin2z=s2z,\n",
    "                     delta_t=conditioned.delta_t,\n",
    "                     f_lower=30)\n",
    "    \n",
    "    \n",
    "    ht_template = fp * hp + fc * hc\n",
    "    \n",
    "    #Resizing the template to match data\n",
    "    ht_template.resize(len(conditioned))\n",
    "    \n",
    "    #Time shift \n",
    "    template = ht_template.cyclic_time_shift(ht_template.start_time)\n",
    "    \n",
    "   \n",
    "    return template"
   ]
  },
  {
   "cell_type": "code",
   "execution_count": 9,
   "id": "17d89ec9",
   "metadata": {},
   "outputs": [],
   "source": [
    "#Constructing data and template bank"
   ]
  },
  {
   "cell_type": "code",
   "execution_count": 10,
   "id": "8f1b949e",
   "metadata": {},
   "outputs": [],
   "source": [
    "noise = gen_noise()\n",
    "\n",
    "bbh_templates = template_bank(20,30,10,6)\n",
    "\n",
    "bns_templates = template_bank(1.3,1.4,0.25,6)\n",
    "\n",
    "bank_total = np.concatenate([bbh_templates,bns_templates])"
   ]
  },
  {
   "cell_type": "code",
   "execution_count": 11,
   "id": "47225ab6",
   "metadata": {},
   "outputs": [
    {
     "name": "stdout",
     "output_type": "stream",
     "text": [
      "Injection number: 0\n",
      " \n",
      "23.963197990653473 , 26.059224598128225\n",
      "1.2785395505632264 , 1.444743830067412\n",
      "1.6277476539791673\n",
      " \n",
      "-------------------------------------------------------------------\n"
     ]
    }
   ],
   "source": [
    "tab = []\n",
    "\n",
    "for i in range(1):\n",
    "    \n",
    "    print(\"Injection number:\",i)\n",
    "    print(' ')\n",
    "\n",
    "    i1 = int(np.random.randint(low = 0,high = 6,size = 1))\n",
    "    i2 = int(np.random.randint(low = 0,high = 6,size = 1))\n",
    "    m1_1 = bbh_templates[i1][0]\n",
    "    m2_1 = bbh_templates[i1][1]\n",
    "    m1_2 = bns_templates[i2][0]\n",
    "    m2_2 = bns_templates[i2][1]\n",
    "\n",
    "    buffer = np.random.uniform(0.1,1.8)\n",
    "\n",
    "\n",
    "    h1_bbh = gen_waveform('IMRPhenomPv2',m1_1,m2_1,0.0,0.0,50,0.0,\"BBH\")\n",
    "\n",
    "    h1_bns = gen_waveform('TaylorF2',m1_2,m2_2,0.0,0.0,2,0.0,\"BNS\")\n",
    "\n",
    "    ht_total,h1_bbh = overlap(h1_bbh,h1_bns,buffer)\n",
    "\n",
    "    ts1 = inject(ht_total,noise,100)\n",
    "    ts1.save(f\"Signals_BBH_BNS/Data_{i}.hdf\")\n",
    "\n",
    "    print(m1_1,',',m2_1)\n",
    "    print(m1_2,',',m2_2)\n",
    "    print(buffer)\n",
    "    print(' ')\n",
    "    print('-------------------------------------------------------------------')\n",
    "    \n",
    "    tab.append([m1_1,m2_1,m1_2,m2_2,buffer])"
   ]
  },
  {
   "cell_type": "code",
   "execution_count": 12,
   "id": "03139315",
   "metadata": {},
   "outputs": [],
   "source": [
    "for i in range(6):\n",
    "    T1 = gen_template('IMRPhenomPv2',bbh_templates[i][0],bbh_templates[i][1],0.0,0.0,ts1)\n",
    "    T1.save(f\"Signals_BBH_BNS/signal_bbh{i}.hdf\")\n",
    "    T2 = gen_template('TaylorF2',bns_templates[i][0],bns_templates[i][1],0.0,0.0,ts1)\n",
    "    T2.save(f\"Signals_BBH_BNS/signal_bns{i}.hdf\")"
   ]
  },
  {
   "cell_type": "code",
   "execution_count": 13,
   "id": "3accaa2a",
   "metadata": {},
   "outputs": [],
   "source": [
    "temp_bank = pd.DataFrame(bank_total)\n",
    "temp_bank.to_csv('Signals_BBH_BNS/Load_bbh_bns.csv',index = False)"
   ]
  },
  {
   "cell_type": "code",
   "execution_count": 14,
   "id": "888828c2",
   "metadata": {},
   "outputs": [
    {
     "data": {
      "text/plain": [
       "[<matplotlib.lines.Line2D at 0x7f22c7330310>]"
      ]
     },
     "execution_count": 14,
     "metadata": {},
     "output_type": "execute_result"
    },
    {
     "data": {
      "image/png": "[encoded data removed]",
      "text/plain": [
       "<Figure size 640x480 with 1 Axes>"
      ]
     },
     "metadata": {},
     "output_type": "display_data"
    }
   ],
   "source": [
    "ts1.plot()"
   ]
  },
  {
   "cell_type": "code",
   "execution_count": 15,
   "id": "39b4caf5",
   "metadata": {},
   "outputs": [
    {
     "data": {
      "text/html": [
       "<div>\n",
       "<style scoped>\n",
       "    .dataframe tbody tr th:only-of-type {\n",
       "        vertical-align: middle;\n",
       "    }\n",
       "\n",
       "    .dataframe tbody tr th {\n",
       "        vertical-align: top;\n",
       "    }\n",
       "\n",
       "    .dataframe thead th {\n",
       "        text-align: right;\n",
       "    }\n",
       "</style>\n",
       "<table border=\"1\" class=\"dataframe\">\n",
       "  <thead>\n",
       "    <tr style=\"text-align: right;\">\n",
       "      <th></th>\n",
       "      <th>0</th>\n",
       "      <th>1</th>\n",
       "    </tr>\n",
       "  </thead>\n",
       "  <tbody>\n",
       "    <tr>\n",
       "      <th>0</th>\n",
       "      <td>16.068173</td>\n",
       "      <td>29.182342</td>\n",
       "    </tr>\n",
       "    <tr>\n",
       "      <th>1</th>\n",
       "      <td>23.963198</td>\n",
       "      <td>26.059225</td>\n",
       "    </tr>\n",
       "    <tr>\n",
       "      <th>2</th>\n",
       "      <td>22.426519</td>\n",
       "      <td>34.545260</td>\n",
       "    </tr>\n",
       "    <tr>\n",
       "      <th>3</th>\n",
       "      <td>29.054320</td>\n",
       "      <td>26.925880</td>\n",
       "    </tr>\n",
       "    <tr>\n",
       "      <th>4</th>\n",
       "      <td>15.309060</td>\n",
       "      <td>33.740029</td>\n",
       "    </tr>\n",
       "    <tr>\n",
       "      <th>5</th>\n",
       "      <td>20.000000</td>\n",
       "      <td>30.000000</td>\n",
       "    </tr>\n",
       "    <tr>\n",
       "      <th>6</th>\n",
       "      <td>1.336704</td>\n",
       "      <td>1.385425</td>\n",
       "    </tr>\n",
       "    <tr>\n",
       "      <th>7</th>\n",
       "      <td>1.243198</td>\n",
       "      <td>1.561168</td>\n",
       "    </tr>\n",
       "    <tr>\n",
       "      <th>8</th>\n",
       "      <td>1.293314</td>\n",
       "      <td>1.415998</td>\n",
       "    </tr>\n",
       "    <tr>\n",
       "      <th>9</th>\n",
       "      <td>1.278540</td>\n",
       "      <td>1.444744</td>\n",
       "    </tr>\n",
       "    <tr>\n",
       "      <th>10</th>\n",
       "      <td>1.243952</td>\n",
       "      <td>1.389234</td>\n",
       "    </tr>\n",
       "    <tr>\n",
       "      <th>11</th>\n",
       "      <td>1.300000</td>\n",
       "      <td>1.400000</td>\n",
       "    </tr>\n",
       "  </tbody>\n",
       "</table>\n",
       "</div>"
      ],
      "text/plain": [
       "            0          1\n",
       "0   16.068173  29.182342\n",
       "1   23.963198  26.059225\n",
       "2   22.426519  34.545260\n",
       "3   29.054320  26.925880\n",
       "4   15.309060  33.740029\n",
       "5   20.000000  30.000000\n",
       "6    1.336704   1.385425\n",
       "7    1.243198   1.561168\n",
       "8    1.293314   1.415998\n",
       "9    1.278540   1.444744\n",
       "10   1.243952   1.389234\n",
       "11   1.300000   1.400000"
      ]
     },
     "execution_count": 15,
     "metadata": {},
     "output_type": "execute_result"
    }
   ],
   "source": [
    "temp_bank"
   ]
  },
  {
   "cell_type": "code",
   "execution_count": null,
   "id": "0ece413a",
   "metadata": {},
   "outputs": [],
   "source": []
  }
 ],
 "metadata": {
  "kernelspec": {
   "display_name": "Python 3 (ipykernel)",
   "language": "python",
   "name": "python3"
  },
  "language_info": {
   "codemirror_mode": {
    "name": "ipython",
    "version": 3
   },
   "file_extension": ".py",
   "mimetype": "text/x-python",
   "name": "python",
   "nbconvert_exporter": "python",
   "pygments_lexer": "ipython3",
   "version": "3.10.6"
  }
 },
 "nbformat": 4,
 "nbformat_minor": 5
}
